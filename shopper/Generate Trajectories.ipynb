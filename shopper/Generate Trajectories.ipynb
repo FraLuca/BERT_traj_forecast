{
 "cells": [
  {
   "cell_type": "code",
   "execution_count": 1,
   "metadata": {},
   "outputs": [],
   "source": [
    "import pandas as pd\n",
    "pd.set_option('display.max_rows', 500)\n",
    "\n",
    "import matplotlib.pyplot as plt\n",
    "from matplotlib.pyplot import figure\n",
    "import datetime\n",
    "import numpy as np\n",
    "\n",
    "from tqdm.auto import tqdm"
   ]
  },
  {
   "cell_type": "code",
   "execution_count": null,
   "metadata": {},
   "outputs": [],
   "source": []
  },
  {
   "cell_type": "code",
   "execution_count": null,
   "metadata": {},
   "outputs": [],
   "source": []
  },
  {
   "cell_type": "code",
   "execution_count": null,
   "metadata": {},
   "outputs": [],
   "source": [
    "def cast_time(x):\n",
    "    return datetime.datetime.strptime(x,'%Y-%m-%d %H:%M:%S')\n",
    "\n",
    "def compute_delta_time(x):\n",
    "    date_1 = sub_df.iloc[0]['datetime']\n",
    "    date_2 = x\n",
    "    time_delta = (date_2 - date_1)\n",
    "    return time_delta.total_seconds()\n",
    "\n",
    "def extract_day(x):\n",
    "    return x.strftime(\"%Y-%m-%d\")"
   ]
  },
  {
   "cell_type": "code",
   "execution_count": null,
   "metadata": {},
   "outputs": [],
   "source": [
    "def convert_x_to_visualize(x, x_min, x_max):\n",
    "    num_pixel_on_x = binary_matrix.shape[0]\n",
    "    return num_pixel_on_x*(x-x_min)/(x_max-x_min)\n",
    "\n",
    "def convert_y_to_visualize(y, y_min, y_max):\n",
    "    num_pixel_on_y = binary_matrix.shape[1]\n",
    "    return num_pixel_on_y*(1-(y-y_min)/(y_max-y_min))"
   ]
  },
  {
   "cell_type": "code",
   "execution_count": null,
   "metadata": {},
   "outputs": [],
   "source": []
  },
  {
   "cell_type": "code",
   "execution_count": null,
   "metadata": {},
   "outputs": [],
   "source": [
    "df_edeka = pd.read_csv('./Traiettorie/edeka_dataset.txt', sep=';')\n",
    "x_min = df_edeka['x'].min()\n",
    "x_max = df_edeka['x'].max()\n",
    "y_min = df_edeka['y'].min()\n",
    "y_max = df_edeka['y'].max()\n",
    "\n",
    "'''sub_df = df_edeka[df_edeka['tag_id'] == '0x00205F15109C']\n",
    "sub_df = sub_df.sort_values(by='time')\n",
    "sub_df['datetime'] = sub_df['time'].apply(cast_time)\n",
    "sub_df['deltatime'] = sub_df['datetime'].apply(compute_delta_time)\n",
    "sub_df['day'] = sub_df['datetime'].apply(extract_day)\n",
    "'''\n",
    "#single_day = sub_df[sub_df['day'] == '2019-08-16']"
   ]
  },
  {
   "cell_type": "code",
   "execution_count": null,
   "metadata": {},
   "outputs": [],
   "source": [
    "def extract_sequences(threshold, min_seq_time_length, min_num_points):\n",
    "    \n",
    "    # threshold = posizioni più distanti in tempo di questa threshold spezzano la sequenza\n",
    "    # min_seq_time_length = selezioniaimo sequenze t.c. il punto finale e iniziale distano almeno min_seq_time_length secondi \n",
    "    # min_num_points = selezioniaimo sequenze t.c. il numero di punti sia almeno min_num_points\n",
    "    \n",
    "    curr_seq = []\n",
    "    seq_idx = 0\n",
    "\n",
    "    new_seq_df = pd.DataFrame(columns = ['tag_id', 'time', 'x', 'y', 'description', 'datetime', 'deltatime', 'seq_idx'])\n",
    "\n",
    "    \n",
    "    for tag_id in tqdm(df_edeka['tag_id'].unique()):\n",
    "        \n",
    "        sub_df = df_edeka[df_edeka['tag_id'] == tag_id]\n",
    "        sub_df = sub_df.sort_values(by='time')\n",
    "        sub_df['datetime'] = sub_df['time'].apply(cast_time)\n",
    "        sub_df['deltatime'] = sub_df['datetime'].apply(compute_delta_time)\n",
    "        #sub_df['day'] = sub_df['datetime'].apply(extract_day)\n",
    "    \n",
    "        for row in range(len(sub_df)-1):\n",
    "            if (sub_df.iloc[row+1]['deltatime'] - sub_df.iloc[row]['deltatime']) <= threshold:\n",
    "                if len(curr_seq) == 0:\n",
    "                    curr_seq.append(sub_df.iloc[row])\n",
    "                    curr_seq.append(sub_df.iloc[row+1])\n",
    "                else:\n",
    "                    curr_seq.append(sub_df.iloc[row+1])\n",
    "            else:\n",
    "                if len(curr_seq) >= min_num_points:\n",
    "                    #list_of_seq.append(curr_seq)\n",
    "                    out_df = pd.DataFrame(curr_seq)\n",
    "                    if (out_df.iloc[-1]['deltatime'] - out_df.iloc[0]['deltatime']) >= min_seq_time_length:\n",
    "                        out_df = out_df.drop_duplicates(subset=['datetime'])\n",
    "                        out_df['seq_idx'] = [seq_idx]*len(out_df)\n",
    "                        seq_idx += 1\n",
    "                        new_seq_df = pd.concat([new_seq_df, out_df], ignore_index=True, sort=False)\n",
    "\n",
    "                    curr_seq = []\n",
    "            \n",
    "    return new_seq_df"
   ]
  },
  {
   "cell_type": "code",
   "execution_count": null,
   "metadata": {},
   "outputs": [],
   "source": [
    "seq_df = extract_sequences(threshold=120, min_seq_time_length=10, min_num_points=5)"
   ]
  },
  {
   "cell_type": "code",
   "execution_count": null,
   "metadata": {},
   "outputs": [],
   "source": [
    "seq_df.to_csv('extracted_sequences.csv', index=False) "
   ]
  },
  {
   "cell_type": "code",
   "execution_count": null,
   "metadata": {},
   "outputs": [],
   "source": []
  },
  {
   "cell_type": "code",
   "execution_count": null,
   "metadata": {},
   "outputs": [],
   "source": []
  },
  {
   "cell_type": "code",
   "execution_count": 2,
   "metadata": {},
   "outputs": [],
   "source": [
    "seq_df = pd.read_csv('extracted_sequences.csv')"
   ]
  },
  {
   "cell_type": "code",
   "execution_count": 3,
   "metadata": {},
   "outputs": [
    {
     "data": {
      "text/html": [
       "<div>\n",
       "<style scoped>\n",
       "    .dataframe tbody tr th:only-of-type {\n",
       "        vertical-align: middle;\n",
       "    }\n",
       "\n",
       "    .dataframe tbody tr th {\n",
       "        vertical-align: top;\n",
       "    }\n",
       "\n",
       "    .dataframe thead th {\n",
       "        text-align: right;\n",
       "    }\n",
       "</style>\n",
       "<table border=\"1\" class=\"dataframe\">\n",
       "  <thead>\n",
       "    <tr style=\"text-align: right;\">\n",
       "      <th></th>\n",
       "      <th>tag_id</th>\n",
       "      <th>time</th>\n",
       "      <th>x</th>\n",
       "      <th>y</th>\n",
       "      <th>description</th>\n",
       "      <th>datetime</th>\n",
       "      <th>deltatime</th>\n",
       "      <th>seq_idx</th>\n",
       "    </tr>\n",
       "  </thead>\n",
       "  <tbody>\n",
       "    <tr>\n",
       "      <th>0</th>\n",
       "      <td>0x00205F15109C</td>\n",
       "      <td>2019-08-01 13:25:13</td>\n",
       "      <td>25.34</td>\n",
       "      <td>30.61</td>\n",
       "      <td>Basket</td>\n",
       "      <td>2019-08-01 13:25:13</td>\n",
       "      <td>0.0</td>\n",
       "      <td>0</td>\n",
       "    </tr>\n",
       "    <tr>\n",
       "      <th>1</th>\n",
       "      <td>0x00205F15109C</td>\n",
       "      <td>2019-08-01 13:25:32</td>\n",
       "      <td>17.66</td>\n",
       "      <td>32.80</td>\n",
       "      <td>Basket</td>\n",
       "      <td>2019-08-01 13:25:32</td>\n",
       "      <td>19.0</td>\n",
       "      <td>0</td>\n",
       "    </tr>\n",
       "    <tr>\n",
       "      <th>2</th>\n",
       "      <td>0x00205F15109C</td>\n",
       "      <td>2019-08-01 13:25:33</td>\n",
       "      <td>14.66</td>\n",
       "      <td>33.12</td>\n",
       "      <td>Basket</td>\n",
       "      <td>2019-08-01 13:25:33</td>\n",
       "      <td>20.0</td>\n",
       "      <td>0</td>\n",
       "    </tr>\n",
       "    <tr>\n",
       "      <th>3</th>\n",
       "      <td>0x00205F15109C</td>\n",
       "      <td>2019-08-01 13:25:35</td>\n",
       "      <td>13.08</td>\n",
       "      <td>32.87</td>\n",
       "      <td>Basket</td>\n",
       "      <td>2019-08-01 13:25:35</td>\n",
       "      <td>22.0</td>\n",
       "      <td>0</td>\n",
       "    </tr>\n",
       "    <tr>\n",
       "      <th>4</th>\n",
       "      <td>0x00205F15109C</td>\n",
       "      <td>2019-08-01 13:25:36</td>\n",
       "      <td>12.49</td>\n",
       "      <td>33.08</td>\n",
       "      <td>Basket</td>\n",
       "      <td>2019-08-01 13:25:36</td>\n",
       "      <td>23.0</td>\n",
       "      <td>0</td>\n",
       "    </tr>\n",
       "    <tr>\n",
       "      <th>5</th>\n",
       "      <td>0x00205F15109C</td>\n",
       "      <td>2019-08-01 13:25:38</td>\n",
       "      <td>12.71</td>\n",
       "      <td>31.94</td>\n",
       "      <td>Basket</td>\n",
       "      <td>2019-08-01 13:25:38</td>\n",
       "      <td>25.0</td>\n",
       "      <td>0</td>\n",
       "    </tr>\n",
       "    <tr>\n",
       "      <th>6</th>\n",
       "      <td>0x00205F15109C</td>\n",
       "      <td>2019-08-01 13:25:39</td>\n",
       "      <td>11.43</td>\n",
       "      <td>30.70</td>\n",
       "      <td>Basket</td>\n",
       "      <td>2019-08-01 13:25:39</td>\n",
       "      <td>26.0</td>\n",
       "      <td>0</td>\n",
       "    </tr>\n",
       "    <tr>\n",
       "      <th>7</th>\n",
       "      <td>0x00205F15109C</td>\n",
       "      <td>2019-08-01 13:25:40</td>\n",
       "      <td>10.17</td>\n",
       "      <td>29.69</td>\n",
       "      <td>Basket</td>\n",
       "      <td>2019-08-01 13:25:40</td>\n",
       "      <td>27.0</td>\n",
       "      <td>0</td>\n",
       "    </tr>\n",
       "    <tr>\n",
       "      <th>8</th>\n",
       "      <td>0x00205F15109C</td>\n",
       "      <td>2019-08-01 13:25:41</td>\n",
       "      <td>8.94</td>\n",
       "      <td>28.91</td>\n",
       "      <td>Basket</td>\n",
       "      <td>2019-08-01 13:25:41</td>\n",
       "      <td>28.0</td>\n",
       "      <td>0</td>\n",
       "    </tr>\n",
       "    <tr>\n",
       "      <th>9</th>\n",
       "      <td>0x00205F15109C</td>\n",
       "      <td>2019-08-01 13:25:43</td>\n",
       "      <td>7.60</td>\n",
       "      <td>28.75</td>\n",
       "      <td>Basket</td>\n",
       "      <td>2019-08-01 13:25:43</td>\n",
       "      <td>30.0</td>\n",
       "      <td>0</td>\n",
       "    </tr>\n",
       "    <tr>\n",
       "      <th>10</th>\n",
       "      <td>0x00205F15109C</td>\n",
       "      <td>2019-08-01 13:25:44</td>\n",
       "      <td>6.03</td>\n",
       "      <td>28.52</td>\n",
       "      <td>Basket</td>\n",
       "      <td>2019-08-01 13:25:44</td>\n",
       "      <td>31.0</td>\n",
       "      <td>0</td>\n",
       "    </tr>\n",
       "    <tr>\n",
       "      <th>11</th>\n",
       "      <td>0x00205F15109C</td>\n",
       "      <td>2019-08-01 13:25:47</td>\n",
       "      <td>4.73</td>\n",
       "      <td>27.93</td>\n",
       "      <td>Basket</td>\n",
       "      <td>2019-08-01 13:25:47</td>\n",
       "      <td>34.0</td>\n",
       "      <td>0</td>\n",
       "    </tr>\n",
       "    <tr>\n",
       "      <th>12</th>\n",
       "      <td>0x00205F15109C</td>\n",
       "      <td>2019-08-01 13:25:48</td>\n",
       "      <td>3.89</td>\n",
       "      <td>27.29</td>\n",
       "      <td>Basket</td>\n",
       "      <td>2019-08-01 13:25:48</td>\n",
       "      <td>35.0</td>\n",
       "      <td>0</td>\n",
       "    </tr>\n",
       "    <tr>\n",
       "      <th>13</th>\n",
       "      <td>0x00205F15109C</td>\n",
       "      <td>2019-08-01 13:25:49</td>\n",
       "      <td>3.23</td>\n",
       "      <td>27.01</td>\n",
       "      <td>Basket</td>\n",
       "      <td>2019-08-01 13:25:49</td>\n",
       "      <td>36.0</td>\n",
       "      <td>0</td>\n",
       "    </tr>\n",
       "    <tr>\n",
       "      <th>14</th>\n",
       "      <td>0x00205F15109C</td>\n",
       "      <td>2019-08-01 13:25:50</td>\n",
       "      <td>3.19</td>\n",
       "      <td>26.90</td>\n",
       "      <td>Basket</td>\n",
       "      <td>2019-08-01 13:25:50</td>\n",
       "      <td>37.0</td>\n",
       "      <td>0</td>\n",
       "    </tr>\n",
       "    <tr>\n",
       "      <th>15</th>\n",
       "      <td>0x00205F15109C</td>\n",
       "      <td>2019-08-01 13:38:53</td>\n",
       "      <td>3.12</td>\n",
       "      <td>26.89</td>\n",
       "      <td>Basket</td>\n",
       "      <td>2019-08-01 13:38:53</td>\n",
       "      <td>820.0</td>\n",
       "      <td>1</td>\n",
       "    </tr>\n",
       "    <tr>\n",
       "      <th>16</th>\n",
       "      <td>0x00205F15109C</td>\n",
       "      <td>2019-08-01 13:38:54</td>\n",
       "      <td>3.86</td>\n",
       "      <td>26.39</td>\n",
       "      <td>Basket</td>\n",
       "      <td>2019-08-01 13:38:54</td>\n",
       "      <td>821.0</td>\n",
       "      <td>1</td>\n",
       "    </tr>\n",
       "    <tr>\n",
       "      <th>17</th>\n",
       "      <td>0x00205F15109C</td>\n",
       "      <td>2019-08-01 13:38:55</td>\n",
       "      <td>3.47</td>\n",
       "      <td>25.91</td>\n",
       "      <td>Basket</td>\n",
       "      <td>2019-08-01 13:38:55</td>\n",
       "      <td>822.0</td>\n",
       "      <td>1</td>\n",
       "    </tr>\n",
       "    <tr>\n",
       "      <th>18</th>\n",
       "      <td>0x00205F15109C</td>\n",
       "      <td>2019-08-01 13:38:57</td>\n",
       "      <td>2.93</td>\n",
       "      <td>24.87</td>\n",
       "      <td>Basket</td>\n",
       "      <td>2019-08-01 13:38:57</td>\n",
       "      <td>824.0</td>\n",
       "      <td>1</td>\n",
       "    </tr>\n",
       "    <tr>\n",
       "      <th>19</th>\n",
       "      <td>0x00205F15109C</td>\n",
       "      <td>2019-08-01 13:38:58</td>\n",
       "      <td>2.32</td>\n",
       "      <td>24.17</td>\n",
       "      <td>Basket</td>\n",
       "      <td>2019-08-01 13:38:58</td>\n",
       "      <td>825.0</td>\n",
       "      <td>1</td>\n",
       "    </tr>\n",
       "  </tbody>\n",
       "</table>\n",
       "</div>"
      ],
      "text/plain": [
       "            tag_id                 time      x      y description  \\\n",
       "0   0x00205F15109C  2019-08-01 13:25:13  25.34  30.61      Basket   \n",
       "1   0x00205F15109C  2019-08-01 13:25:32  17.66  32.80      Basket   \n",
       "2   0x00205F15109C  2019-08-01 13:25:33  14.66  33.12      Basket   \n",
       "3   0x00205F15109C  2019-08-01 13:25:35  13.08  32.87      Basket   \n",
       "4   0x00205F15109C  2019-08-01 13:25:36  12.49  33.08      Basket   \n",
       "5   0x00205F15109C  2019-08-01 13:25:38  12.71  31.94      Basket   \n",
       "6   0x00205F15109C  2019-08-01 13:25:39  11.43  30.70      Basket   \n",
       "7   0x00205F15109C  2019-08-01 13:25:40  10.17  29.69      Basket   \n",
       "8   0x00205F15109C  2019-08-01 13:25:41   8.94  28.91      Basket   \n",
       "9   0x00205F15109C  2019-08-01 13:25:43   7.60  28.75      Basket   \n",
       "10  0x00205F15109C  2019-08-01 13:25:44   6.03  28.52      Basket   \n",
       "11  0x00205F15109C  2019-08-01 13:25:47   4.73  27.93      Basket   \n",
       "12  0x00205F15109C  2019-08-01 13:25:48   3.89  27.29      Basket   \n",
       "13  0x00205F15109C  2019-08-01 13:25:49   3.23  27.01      Basket   \n",
       "14  0x00205F15109C  2019-08-01 13:25:50   3.19  26.90      Basket   \n",
       "15  0x00205F15109C  2019-08-01 13:38:53   3.12  26.89      Basket   \n",
       "16  0x00205F15109C  2019-08-01 13:38:54   3.86  26.39      Basket   \n",
       "17  0x00205F15109C  2019-08-01 13:38:55   3.47  25.91      Basket   \n",
       "18  0x00205F15109C  2019-08-01 13:38:57   2.93  24.87      Basket   \n",
       "19  0x00205F15109C  2019-08-01 13:38:58   2.32  24.17      Basket   \n",
       "\n",
       "               datetime  deltatime  seq_idx  \n",
       "0   2019-08-01 13:25:13        0.0        0  \n",
       "1   2019-08-01 13:25:32       19.0        0  \n",
       "2   2019-08-01 13:25:33       20.0        0  \n",
       "3   2019-08-01 13:25:35       22.0        0  \n",
       "4   2019-08-01 13:25:36       23.0        0  \n",
       "5   2019-08-01 13:25:38       25.0        0  \n",
       "6   2019-08-01 13:25:39       26.0        0  \n",
       "7   2019-08-01 13:25:40       27.0        0  \n",
       "8   2019-08-01 13:25:41       28.0        0  \n",
       "9   2019-08-01 13:25:43       30.0        0  \n",
       "10  2019-08-01 13:25:44       31.0        0  \n",
       "11  2019-08-01 13:25:47       34.0        0  \n",
       "12  2019-08-01 13:25:48       35.0        0  \n",
       "13  2019-08-01 13:25:49       36.0        0  \n",
       "14  2019-08-01 13:25:50       37.0        0  \n",
       "15  2019-08-01 13:38:53      820.0        1  \n",
       "16  2019-08-01 13:38:54      821.0        1  \n",
       "17  2019-08-01 13:38:55      822.0        1  \n",
       "18  2019-08-01 13:38:57      824.0        1  \n",
       "19  2019-08-01 13:38:58      825.0        1  "
      ]
     },
     "execution_count": 3,
     "metadata": {},
     "output_type": "execute_result"
    }
   ],
   "source": [
    "seq_df.head(20)"
   ]
  },
  {
   "cell_type": "code",
   "execution_count": 4,
   "metadata": {},
   "outputs": [
    {
     "data": {
      "text/plain": [
       "array([    0,     1,     2, ..., 22591, 22592, 22593], dtype=int64)"
      ]
     },
     "execution_count": 4,
     "metadata": {},
     "output_type": "execute_result"
    }
   ],
   "source": [
    "seq_df['seq_idx'].unique()"
   ]
  },
  {
   "cell_type": "code",
   "execution_count": null,
   "metadata": {},
   "outputs": [],
   "source": []
  },
  {
   "cell_type": "code",
   "execution_count": 4,
   "metadata": {},
   "outputs": [],
   "source": [
    "from torch.utils.data import Dataset\n",
    "from tqdm.auto import tqdm\n",
    "\n",
    "def pad_missing_values(curr_seq):\n",
    "    curr_seq['deltatime'] = curr_seq['deltatime'] - curr_seq['deltatime'].iloc[0]\n",
    "    last_timestamp = int(curr_seq['deltatime'].iloc[-1])+1\n",
    "    filled_seq = dict(zip(list(range(last_timestamp)), [float(\"NAN\")]*last_timestamp))\n",
    "    for row in range(len(curr_seq)):\n",
    "        filled_seq[curr_seq['deltatime'].iloc[row]] = curr_seq[['x','y']].iloc[row]\n",
    "    filled_df = pd.DataFrame.from_dict(filled_seq).T    \n",
    "    return filled_df.astype(np.float32)\n",
    "\n",
    "\n",
    "class IndividualTfDataset(Dataset):\n",
    "    def __init__(self,data):\n",
    "        super(IndividualTfDataset,self).__init__()\n",
    "\n",
    "        self.data=data\n",
    "\n",
    "    def __len__(self):\n",
    "        return self.data['src'].shape[0]\n",
    "\n",
    "\n",
    "    def __getitem__(self,index):\n",
    "        return {'src':torch.Tensor(self.data['src'][index]),\n",
    "                'trg':torch.Tensor(self.data['trg'][index]),\n",
    "                'tag_id':self.data['tag_id'][index],\n",
    "                'seq_idx':self.data['seq_idx'][index],\n",
    "                }"
   ]
  },
  {
   "cell_type": "code",
   "execution_count": 6,
   "metadata": {},
   "outputs": [],
   "source": [
    "def split_and_fill_sequences(seq_df, min_seq_length=20, max_seq_length=100, n_obs=40, n_preds=60, step=1):\n",
    "    \n",
    "    data_pos=[]\n",
    "    data_speed=[]\n",
    "    data_rel_pos=[]\n",
    "    info_tag_id=[]\n",
    "    info_seq_idx=[]\n",
    "    \n",
    "    data = {}\n",
    "    \n",
    "    for seq_idx in tqdm(seq_df['seq_idx'].unique(), total=len(seq_df['seq_idx'].unique())):\n",
    "        \n",
    "        curr_seq = seq_df[seq_df['seq_idx']==seq_idx].copy()#.astype(np.float32)\n",
    "        \n",
    "        filled_curr_seq = pad_missing_values(curr_seq)\n",
    "        curr_seq_len = len(filled_curr_seq)\n",
    "        \n",
    "        if curr_seq_len < min_seq_length:\n",
    "            # Consider only sequence with minimum number of data\n",
    "            continue\n",
    "        elif curr_seq_len <= max_seq_length:\n",
    "            # Pad and add to list\n",
    "            df_nan = pd.DataFrame(np.nan, index=np.arange(max_seq_length - curr_seq_len), columns=['x', 'y'])\n",
    "            filled_curr_seq = pd.concat([filled_curr_seq, df_nan])\n",
    "            \n",
    "            data_pos.append(filled_curr_seq[['x','y']].values)\n",
    "            data_speed.append(np.concatenate((np.zeros((1,2)), np.diff(filled_curr_seq.values, axis=0)), 0))\n",
    "            data_rel_pos.append(filled_curr_seq.values - filled_curr_seq.values[0,:])\n",
    "            \n",
    "            info_tag_id.append(curr_seq['tag_id'].iloc[0])\n",
    "            info_seq_idx.append(curr_seq['seq_idx'].iloc[0])\n",
    "        else:\n",
    "            # Split to max length and Add each list\n",
    "            for i in range(1+(curr_seq_len - n_obs - n_preds)//step):\n",
    "                new_curr_seq = filled_curr_seq[['x','y']].iloc[i*step:i*step+n_obs+n_preds].values\n",
    "                if np.isnan(new_curr_seq[0,:]).any():\n",
    "                    # Skip seq if first position is nan\n",
    "                    continue\n",
    "                data_pos.append(new_curr_seq)\n",
    "                data_speed.append(np.concatenate((np.zeros((1,2)), np.diff(new_curr_seq, axis=0)), 0))\n",
    "                data_rel_pos.append(new_curr_seq - new_curr_seq[0,:])\n",
    "                \n",
    "                info_tag_id.append(curr_seq['tag_id'].iloc[0])\n",
    "                info_seq_idx.append(curr_seq['seq_idx'].iloc[0])\n",
    "                \n",
    "        if seq_idx > 5000:\n",
    "            print(\"You stopped at:\", str(seq_idx))\n",
    "            break\n",
    "                \n",
    "    data_pos_stack = np.stack(data_pos)\n",
    "    data_speed_stack = np.stack(data_speed)\n",
    "    data_rel_pos_stack = np.stack(data_rel_pos)\n",
    "    info_tag_id_stack = np.stack(info_tag_id)\n",
    "    info_seq_idx_stack = np.stack(info_seq_idx)\n",
    "    \n",
    "    all_data = np.concatenate((data_pos_stack, data_speed_stack, data_rel_pos_stack), 2)\n",
    "    inp = all_data[:,:n_obs,:]\n",
    "    out = all_data[:,n_obs:,:]\n",
    "    \n",
    "    data['src'] = inp\n",
    "    data['trg'] = out\n",
    "    data['tag_id'] = info_tag_id_stack\n",
    "    data['seq_idx'] = info_seq_idx_stack\n",
    "    \n",
    "    return data, IndividualTfDataset(data)"
   ]
  },
  {
   "cell_type": "code",
   "execution_count": null,
   "metadata": {},
   "outputs": [
    {
     "data": {
      "application/vnd.jupyter.widget-view+json": {
       "model_id": "9dbdba1179d0447cb89a5f440af7ef27",
       "version_major": 2,
       "version_minor": 0
      },
      "text/plain": [
       "HBox(children=(FloatProgress(value=0.0, max=22594.0), HTML(value='')))"
      ]
     },
     "metadata": {},
     "output_type": "display_data"
    }
   ],
   "source": [
    "data, dataset = split_and_fill_sequences(seq_df)"
   ]
  },
  {
   "cell_type": "code",
   "execution_count": null,
   "metadata": {},
   "outputs": [],
   "source": [
    "import pickle"
   ]
  },
  {
   "cell_type": "code",
   "execution_count": null,
   "metadata": {},
   "outputs": [],
   "source": [
    "with open('processed_data.pkl', 'wb') as f:\n",
    "    pickle.dump(data, f, pickle.HIGHEST_PROTOCOL)"
   ]
  },
  {
   "cell_type": "code",
   "execution_count": null,
   "metadata": {},
   "outputs": [],
   "source": [
    "data['src'].shape"
   ]
  },
  {
   "cell_type": "code",
   "execution_count": null,
   "metadata": {
    "scrolled": true
   },
   "outputs": [],
   "source": [
    "idx = 4\n",
    "aa = np.concatenate((data['src'][idx,:,:], data['trg'][idx,:,:]), axis=0)\n",
    "aa"
   ]
  },
  {
   "cell_type": "code",
   "execution_count": null,
   "metadata": {},
   "outputs": [],
   "source": [
    "np.isnan(aa[0,:]).any()"
   ]
  },
  {
   "cell_type": "code",
   "execution_count": null,
   "metadata": {},
   "outputs": [],
   "source": [
    "data['trg'][idx,:,:].shape"
   ]
  },
  {
   "cell_type": "code",
   "execution_count": null,
   "metadata": {},
   "outputs": [],
   "source": []
  },
  {
   "cell_type": "code",
   "execution_count": null,
   "metadata": {},
   "outputs": [],
   "source": [
    "with open('processed_data.pkl', 'rb') as f:\n",
    "    data_2 = pickle.load(f)"
   ]
  },
  {
   "cell_type": "code",
   "execution_count": null,
   "metadata": {},
   "outputs": [],
   "source": [
    "data_2['src'].shape"
   ]
  },
  {
   "cell_type": "code",
   "execution_count": null,
   "metadata": {},
   "outputs": [],
   "source": []
  },
  {
   "cell_type": "code",
   "execution_count": null,
   "metadata": {},
   "outputs": [],
   "source": []
  },
  {
   "cell_type": "code",
   "execution_count": null,
   "metadata": {},
   "outputs": [],
   "source": []
  },
  {
   "cell_type": "code",
   "execution_count": null,
   "metadata": {},
   "outputs": [],
   "source": []
  },
  {
   "cell_type": "code",
   "execution_count": null,
   "metadata": {},
   "outputs": [],
   "source": [
    "import torch"
   ]
  },
  {
   "cell_type": "code",
   "execution_count": null,
   "metadata": {},
   "outputs": [],
   "source": [
    "test_dl = torch.utils.data.DataLoader(dataset, batch_size=10, shuffle=False, num_workers=0)"
   ]
  },
  {
   "cell_type": "code",
   "execution_count": null,
   "metadata": {},
   "outputs": [],
   "source": [
    "for batch in test_dl:\n",
    "    print(batch['tag_id'], batch['seq_idx'])\n",
    "    print(batch['src'].shape)\n",
    "    print(batch['trg'].shape)\n",
    "    break"
   ]
  },
  {
   "cell_type": "code",
   "execution_count": null,
   "metadata": {
    "scrolled": false
   },
   "outputs": [],
   "source": [
    "bbb = torch.cat((batch['src'], batch['trg']), 1)\n",
    "bbb[1,:,:]"
   ]
  },
  {
   "cell_type": "code",
   "execution_count": null,
   "metadata": {},
   "outputs": [],
   "source": []
  },
  {
   "cell_type": "code",
   "execution_count": null,
   "metadata": {},
   "outputs": [],
   "source": []
  },
  {
   "cell_type": "code",
   "execution_count": null,
   "metadata": {},
   "outputs": [],
   "source": []
  },
  {
   "cell_type": "code",
   "execution_count": null,
   "metadata": {},
   "outputs": [],
   "source": []
  },
  {
   "cell_type": "code",
   "execution_count": null,
   "metadata": {},
   "outputs": [],
   "source": [
    "seq_idx = 1\n",
    "curr_seq = seq_df[seq_df['seq_idx']==seq_idx].copy()\n",
    "filled_curr_seq = pad_missing_values(curr_seq)\n",
    "filled_curr_seq"
   ]
  },
  {
   "cell_type": "code",
   "execution_count": null,
   "metadata": {},
   "outputs": [],
   "source": [
    "data_pos=[]\n",
    "data_speed=[]\n",
    "data_rel_pos=[]\n",
    "data_time=[]\n",
    "\n",
    "curr_seq_len = len(filled_curr_seq)\n",
    "\n",
    "for i in range(1+(curr_seq_len - n_obs - n_preds)//step):\n",
    "    new_curr_seq = filled_curr_seq[['x','y']].iloc[i*step:i*step+n_obs+n_preds].values\n",
    "    \n",
    "    data_pos.append(new_curr_seq)\n",
    "    data_speed.append(np.concatenate((np.zeros((1,2)), np.diff(new_curr_seq, axis=0)), 0))\n",
    "    data_rel_pos.append(new_curr_seq - new_curr_seq[0,:])\n",
    "    data_time.append(filled_curr_seq.iloc[i*step:i*step+n_obs+n_preds].index.values)"
   ]
  },
  {
   "cell_type": "code",
   "execution_count": null,
   "metadata": {},
   "outputs": [],
   "source": [
    "np.stack(data_pos).shape"
   ]
  },
  {
   "cell_type": "code",
   "execution_count": null,
   "metadata": {},
   "outputs": [],
   "source": []
  },
  {
   "cell_type": "code",
   "execution_count": null,
   "metadata": {},
   "outputs": [],
   "source": []
  },
  {
   "cell_type": "code",
   "execution_count": null,
   "metadata": {},
   "outputs": [],
   "source": []
  },
  {
   "cell_type": "code",
   "execution_count": null,
   "metadata": {},
   "outputs": [],
   "source": []
  },
  {
   "cell_type": "code",
   "execution_count": null,
   "metadata": {},
   "outputs": [],
   "source": []
  },
  {
   "cell_type": "code",
   "execution_count": null,
   "metadata": {},
   "outputs": [],
   "source": []
  },
  {
   "cell_type": "code",
   "execution_count": null,
   "metadata": {},
   "outputs": [],
   "source": []
  },
  {
   "cell_type": "code",
   "execution_count": null,
   "metadata": {},
   "outputs": [],
   "source": []
  },
  {
   "cell_type": "code",
   "execution_count": null,
   "metadata": {},
   "outputs": [],
   "source": []
  },
  {
   "cell_type": "code",
   "execution_count": null,
   "metadata": {},
   "outputs": [],
   "source": []
  },
  {
   "cell_type": "code",
   "execution_count": null,
   "metadata": {},
   "outputs": [],
   "source": []
  },
  {
   "cell_type": "code",
   "execution_count": null,
   "metadata": {},
   "outputs": [],
   "source": []
  },
  {
   "cell_type": "code",
   "execution_count": null,
   "metadata": {},
   "outputs": [],
   "source": []
  },
  {
   "cell_type": "code",
   "execution_count": null,
   "metadata": {},
   "outputs": [],
   "source": []
  },
  {
   "cell_type": "code",
   "execution_count": null,
   "metadata": {},
   "outputs": [],
   "source": []
  },
  {
   "cell_type": "code",
   "execution_count": null,
   "metadata": {},
   "outputs": [],
   "source": []
  },
  {
   "cell_type": "code",
   "execution_count": null,
   "metadata": {},
   "outputs": [],
   "source": []
  },
  {
   "cell_type": "code",
   "execution_count": null,
   "metadata": {},
   "outputs": [],
   "source": []
  },
  {
   "cell_type": "code",
   "execution_count": null,
   "metadata": {},
   "outputs": [],
   "source": [
    "def split_or_pad_sequences(seq_df, max_time_length=30, max_seq_length=20):\n",
    "    \n",
    "    data_src=[]\n",
    "    data_trg=[]\n",
    "    data_time=[]\n",
    "    data_tag_id=[]\n",
    "    data_seq_id=[]\n",
    "    \n",
    "    for seq_idx in seq_df['seq_idx'].unique():\n",
    "        \n",
    "        curr_seq = seq_df[seq_df['seq_idx']==seq_idx]\n",
    "        curr_seq_len = len(curr_seq)\n",
    "        curr_time_len = curr_seq['deltatime'].iloc[-1] - curr_seq['deltatime'].iloc[0]\n",
    "        \n",
    "        if curr_seq_len < max_seq_length:\n",
    "            # Pad\n",
    "        else: \n",
    "            if curr_seq_len > max_seq_length:\n",
    "                "
   ]
  },
  {
   "cell_type": "code",
   "execution_count": null,
   "metadata": {},
   "outputs": [],
   "source": []
  },
  {
   "cell_type": "code",
   "execution_count": null,
   "metadata": {},
   "outputs": [],
   "source": [
    "curr_seq = seq_df[seq_df['seq_idx']==1]\n",
    "curr_seq_len = len(curr_seq)\n",
    "curr_time_len = curr_seq['deltatime'].iloc[-1] - curr_seq['deltatime'].iloc[0]"
   ]
  },
  {
   "cell_type": "code",
   "execution_count": null,
   "metadata": {},
   "outputs": [],
   "source": [
    "curr_seq"
   ]
  },
  {
   "cell_type": "code",
   "execution_count": null,
   "metadata": {},
   "outputs": [],
   "source": [
    "curr_seq_len, curr_time_len"
   ]
  },
  {
   "cell_type": "code",
   "execution_count": null,
   "metadata": {},
   "outputs": [],
   "source": [
    "max_time_length=30\n",
    "max_seq_length=20"
   ]
  },
  {
   "cell_type": "code",
   "execution_count": null,
   "metadata": {},
   "outputs": [],
   "source": [
    "list_seq = []\n",
    "\n",
    "if curr_seq_len < max_seq_length:\n",
    "    # Pad\n",
    "    pass\n",
    "else:\n",
    "    num_new_seq = curr_seq_len - max_seq_length\n",
    "    \n",
    "    for ii in range(num_new_seq):\n",
    "        \n",
    "        new_curr_seq = curr_seq.iloc[ii:max_seq_length+ii]\n",
    "        new_curr_seq['deltatime'] = new_curr_seq['deltatime'] - new_curr_seq['deltatime'].iloc[0]\n",
    "        new_curr_time_len = new_curr_seq.iloc[-1]\n",
    "        \n",
    "        if (max_time_length not None) and (new_curr_time_len > max_time_length):\n",
    "            time_idx = find_index(new_curr_seq['deltatime'], max_time_length)\n",
    "            \n",
    "            for ii_2 in range(len(new_curr_seq['deltatime'])-time_idx):\n",
    "                \n",
    "                new_curr_seq = curr_seq.iloc[ii_2:max_seq_length+ii_2]\n",
    "            # Pad and add"
   ]
  },
  {
   "cell_type": "code",
   "execution_count": null,
   "metadata": {},
   "outputs": [],
   "source": [
    "curr_seq.iloc[0:10]"
   ]
  },
  {
   "cell_type": "code",
   "execution_count": null,
   "metadata": {},
   "outputs": [],
   "source": [
    "curr_seq['deltatime'] - curr_seq['deltatime'].iloc[0]"
   ]
  },
  {
   "cell_type": "code",
   "execution_count": null,
   "metadata": {},
   "outputs": [],
   "source": [
    "def find_index(seq, threshold):\n",
    "    for idx in range(len(seq)):\n",
    "        if seq.iloc[idx] > threshold:\n",
    "            return idx-1"
   ]
  },
  {
   "cell_type": "code",
   "execution_count": null,
   "metadata": {},
   "outputs": [],
   "source": [
    "ss = curr_seq['deltatime'] - curr_seq['deltatime'].iloc[0]\n",
    "ss"
   ]
  },
  {
   "cell_type": "code",
   "execution_count": null,
   "metadata": {},
   "outputs": [],
   "source": [
    "find_index(ss, 40)"
   ]
  },
  {
   "cell_type": "code",
   "execution_count": null,
   "metadata": {},
   "outputs": [],
   "source": [
    "curr_seq_2 = seq_df[seq_df['seq_idx']==1].copy()\n",
    "curr_seq_2['deltatime'] = curr_seq_2['deltatime'] - curr_seq_2['deltatime'].iloc[0]\n",
    "curr_seq_2"
   ]
  },
  {
   "cell_type": "code",
   "execution_count": null,
   "metadata": {},
   "outputs": [],
   "source": [
    "curr_seq_2.iloc[:20][['x','y','deltatime']]"
   ]
  },
  {
   "cell_type": "code",
   "execution_count": null,
   "metadata": {},
   "outputs": [],
   "source": []
  }
 ],
 "metadata": {
  "kernelspec": {
   "display_name": "Python 3",
   "language": "python",
   "name": "python3"
  },
  "language_info": {
   "codemirror_mode": {
    "name": "ipython",
    "version": 3
   },
   "file_extension": ".py",
   "mimetype": "text/x-python",
   "name": "python",
   "nbconvert_exporter": "python",
   "pygments_lexer": "ipython3",
   "version": "3.8.5"
  },
  "varInspector": {
   "cols": {
    "lenName": 16,
    "lenType": 16,
    "lenVar": 40
   },
   "kernels_config": {
    "python": {
     "delete_cmd_postfix": "",
     "delete_cmd_prefix": "del ",
     "library": "var_list.py",
     "varRefreshCmd": "print(var_dic_list())"
    },
    "r": {
     "delete_cmd_postfix": ") ",
     "delete_cmd_prefix": "rm(",
     "library": "var_list.r",
     "varRefreshCmd": "cat(var_dic_list()) "
    }
   },
   "types_to_exclude": [
    "module",
    "function",
    "builtin_function_or_method",
    "instance",
    "_Feature"
   ],
   "window_display": false
  }
 },
 "nbformat": 4,
 "nbformat_minor": 4
}
