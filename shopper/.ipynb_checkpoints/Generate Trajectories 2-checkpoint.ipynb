{
 "cells": [
  {
   "cell_type": "code",
   "execution_count": 1,
   "metadata": {
    "executionInfo": {
     "elapsed": 1648,
     "status": "ok",
     "timestamp": 1612888722559,
     "user": {
      "displayName": "Alessandro Flaborea",
      "photoUrl": "",
      "userId": "15839372337377172523"
     },
     "user_tz": -60
    },
    "id": "RvekxJYOqG8L"
   },
   "outputs": [],
   "source": [
    "import pandas as pd\n",
    "pd.set_option('display.max_rows', 500)\n",
    "\n",
    "import matplotlib.pyplot as plt\n",
    "from matplotlib.pyplot import figure\n",
    "import datetime\n",
    "import numpy as np\n",
    "\n",
    "from tqdm.auto import tqdm"
   ]
  },
  {
   "cell_type": "code",
   "execution_count": 2,
   "metadata": {
    "colab": {
     "base_uri": "https://localhost:8080/",
     "height": 361
    },
    "executionInfo": {
     "elapsed": 1644,
     "status": "error",
     "timestamp": 1612888722563,
     "user": {
      "displayName": "Alessandro Flaborea",
      "photoUrl": "",
      "userId": "15839372337377172523"
     },
     "user_tz": -60
    },
    "id": "M6DEK9CxqG8R",
    "outputId": "39180578-ef9d-42c4-e52c-c13ee82fdb37"
   },
   "outputs": [],
   "source": [
    "seq_df = pd.read_csv('extracted_sequences.csv')"
   ]
  },
  {
   "cell_type": "code",
   "execution_count": 3,
   "metadata": {
    "executionInfo": {
     "elapsed": 1638,
     "status": "aborted",
     "timestamp": 1612888722561,
     "user": {
      "displayName": "Alessandro Flaborea",
      "photoUrl": "",
      "userId": "15839372337377172523"
     },
     "user_tz": -60
    },
    "id": "Ur2emZt_qG8S"
   },
   "outputs": [],
   "source": [
    "from joblib import Parallel, delayed\n",
    "import multiprocessing\n",
    "import time"
   ]
  },
  {
   "cell_type": "code",
   "execution_count": 4,
   "metadata": {
    "id": "J4LFvsv3qG8T"
   },
   "outputs": [],
   "source": [
    "import torch"
   ]
  },
  {
   "cell_type": "code",
   "execution_count": 5,
   "metadata": {
    "executionInfo": {
     "elapsed": 1636,
     "status": "aborted",
     "timestamp": 1612888722562,
     "user": {
      "displayName": "Alessandro Flaborea",
      "photoUrl": "",
      "userId": "15839372337377172523"
     },
     "user_tz": -60
    },
    "id": "fx8XaRFBqG8T"
   },
   "outputs": [],
   "source": [
    "from torch.utils.data import Dataset\n",
    "from tqdm.auto import tqdm\n",
    "\n",
    "def pad_missing_values(curr_seq):\n",
    "    curr_seq['deltatime'] = curr_seq['deltatime'] - curr_seq['deltatime'].iloc[0]\n",
    "    last_timestamp = int(curr_seq['deltatime'].iloc[-1])+1\n",
    "    filled_seq = dict(zip(list(range(last_timestamp)), [float(\"NAN\")]*last_timestamp))\n",
    "    for row in range(len(curr_seq)):\n",
    "        filled_seq[curr_seq['deltatime'].iloc[row]] = curr_seq[['x','y']].iloc[row]\n",
    "    filled_df = pd.DataFrame.from_dict(filled_seq).T    \n",
    "    return filled_df.astype(np.float32)"
   ]
  },
  {
   "cell_type": "code",
   "execution_count": 5,
   "metadata": {
    "executionInfo": {
     "elapsed": 1169,
     "status": "aborted",
     "timestamp": 1612888722563,
     "user": {
      "displayName": "Alessandro Flaborea",
      "photoUrl": "",
      "userId": "15839372337377172523"
     },
     "user_tz": -60
    },
    "id": "fMR7CAt3qG8V"
   },
   "outputs": [],
   "source": [
    "# def sequence_creator(filled_curr_seq, tag_id, seq_idx, threshold=75, stride=5, len_seq=100, max_number_consecutive_nan = 10):\n",
    "    \n",
    "#     filled_df = filled_curr_seq.interpolate(method='linear', axis=0, limit=max_number_consecutive_nan)\n",
    "    \n",
    "#     all_sequences = []\n",
    "    \n",
    "#     #split at NaN values\n",
    "#     events = np.split(filled_df, np.where(np.isnan(filled_df.values))[0])\n",
    "#     # removing NaN entries\n",
    "#     events = [ev[~np.isnan(ev.values)[:,0]] for ev in events if not isinstance(ev, np.ndarray)]\n",
    "#     # removing empty DataFrames\n",
    "    \n",
    "#     accepted_seq = 0\n",
    "    \n",
    "#     for ev in events:\n",
    "#         if ev.empty or len(ev)<threshold:\n",
    "#             continue\n",
    "#         elif len(ev) <= len_seq:\n",
    "#             # Pad at the begginning and add to list\n",
    "#             df_nan = pd.DataFrame(np.nan, index=np.arange(100-len(ev)), columns=['x', 'y'])\n",
    "#             new_df = pd.concat([df_nan, ev], ignore_index=True).reset_index(drop=True)\n",
    "            \n",
    "#             # Add seq_idx\n",
    "#             new_seq_idx = str(seq_idx)+'_'+str(accepted_seq)\n",
    "#             accepted_seq += 1\n",
    "#             new_df['seq_idx'] = np.repeat([new_seq_idx], len_seq)\n",
    "            \n",
    "#             # Add tag_id\n",
    "#             new_df['tag_id'] = np.repeat([tag_id], len_seq)\n",
    "            \n",
    "#             all_sequences.append(new_df)\n",
    "#         elif len(ev) > len_seq:\n",
    "#             for i in range(1+(len(ev) - len_seq) // stride):\n",
    "#                 new_df = ev.iloc[i*stride : i*stride+len_seq, [0,1]].reset_index(drop=True)\n",
    "                \n",
    "#                 # Add seq_idx\n",
    "#                 new_seq_idx = str(seq_idx)+'_'+str(accepted_seq)\n",
    "#                 accepted_seq += 1\n",
    "#                 new_df['seq_idx'] = np.repeat([new_seq_idx], len_seq)\n",
    "\n",
    "#                 # Add tag_id\n",
    "#                 new_df['tag_id'] = np.repeat([tag_id], len_seq)\n",
    "                \n",
    "#                 all_sequences.append(new_df)\n",
    "#     if len(all_sequences) > 0:\n",
    "#         return pd.concat(all_sequences).reset_index(drop=True)\n",
    "#     else:\n",
    "#         return pd.DataFrame(columns=['x', 'y', 'tag_id', 'seq_idx'])"
   ]
  },
  {
   "cell_type": "code",
   "execution_count": 24,
   "metadata": {
    "id": "7FbJ_olnqG8W"
   },
   "outputs": [],
   "source": [
    "def sequence_creator(filled_curr_seq, tag_id, seq_idx, threshold=75, stride=5, len_seq=100):\n",
    "    \n",
    "    filled_df = filled_curr_seq.interpolate(method='ffill', axis=0)\n",
    "\n",
    "    all_sequences = []\n",
    "    \n",
    "#     #split at NaN values\n",
    "#     events = np.split(filled_df, np.where(np.isnan(filled_df.values))[0])\n",
    "#     # removing NaN entries\n",
    "#     events = [ev[~np.isnan(ev.values)[:,0]] for ev in events if not isinstance(ev, np.ndarray)]\n",
    "#     # removing empty DataFrames\n",
    "    \n",
    "    accepted_seq = 0\n",
    "    \n",
    "#     for ev in events:\n",
    "    if len(filled_df)<threshold:\n",
    "        return pd.DataFrame(columns=['x', 'y', 'tag_id', 'seq_idx'])\n",
    "    elif len(filled_df) <= len_seq:\n",
    "        # Pad at the begginning and add to list\n",
    "        df_nan = pd.DataFrame(np.nan, index=np.arange(100-(len(filled_df)+1)), columns=['x', 'y'])\n",
    "        if len(filled_df) != len_seq:\n",
    "            new_df = pd.concat([filled_df.head(1), df_nan, filled_df])\n",
    "        else: \n",
    "            new_df = filled_df\n",
    "        # Add seq_idx\n",
    "        new_seq_idx = str(seq_idx)+'_'+str(accepted_seq)\n",
    "        accepted_seq += 1\n",
    "        new_df['seq_idx'] = np.repeat([new_seq_idx], len_seq)\n",
    "\n",
    "        # Add tag_id\n",
    "        new_df['tag_id'] = np.repeat([tag_id], len_seq)\n",
    "\n",
    "        all_sequences.append(new_df)\n",
    "    elif len(filled_df) > len_seq:\n",
    "        for i in range(1+(len(filled_df) - len_seq) // stride):\n",
    "            new_df = filled_df.iloc[i*stride : i*stride+len_seq, [0,1]].reset_index(drop=True)\n",
    "\n",
    "            # Add seq_idx\n",
    "            new_seq_idx = str(seq_idx)+'_'+str(accepted_seq)\n",
    "            accepted_seq += 1\n",
    "            try:\n",
    "                new_df['seq_idx'] = np.repeat([new_seq_idx], len_seq)\n",
    "            except:\n",
    "                print(len(new_seq_idx), len_seq)\n",
    "            # Add tag_id\n",
    "            new_df['tag_id'] = np.repeat([tag_id], len_seq)\n",
    "\n",
    "            all_sequences.append(new_df)\n",
    "    if len(all_sequences) > 0:\n",
    "        return pd.concat(all_sequences).reset_index(drop=True)\n",
    "    else:\n",
    "        return pd.DataFrame(columns=['x', 'y', 'tag_id', 'seq_idx'])"
   ]
  },
  {
   "cell_type": "code",
   "execution_count": 7,
   "metadata": {
    "executionInfo": {
     "elapsed": 1322,
     "status": "ok",
     "timestamp": 1612888726039,
     "user": {
      "displayName": "Alessandro Flaborea",
      "photoUrl": "",
      "userId": "15839372337377172523"
     },
     "user_tz": -60
    },
    "id": "XPC6S74QqG8W"
   },
   "outputs": [],
   "source": [
    "# def general_function(sub_list):\n",
    "#     start_time = time.time()\n",
    "#     sssseq = []\n",
    "    \n",
    "#     for seq_idx in sub_list:\n",
    "#         curr_seq = seq_df[seq_df['seq_idx']==seq_idx].copy()\n",
    "#         filled_curr_seq = pad_missing_values(curr_seq)\n",
    "#         prova = sequence_creator(filled_curr_seq, curr_seq['tag_id'].iloc[0], curr_seq['seq_idx'].iloc[0])\n",
    "#         sssseq.append(prova)\n",
    "#     final_df = pd.concat(sssseq).reset_index(drop=True)\n",
    "#     final_df.to_csv(\"./preprocessed_new/sequences_from_\"+str(sub_list[0])+\"_to_\"+str(sub_list[-1])+\".csv\")\n",
    "#     # print(\"Scritto:\", str(sub_list[0])+\" - \"+str(sub_list[-1]), \"in:\", str(time.time() - start_time))"
   ]
  },
  {
   "cell_type": "code",
   "execution_count": null,
   "metadata": {},
   "outputs": [],
   "source": [
    "len_processed_seq = 200\n",
    "tot_seq = len(seq_df['seq_idx'].unique())\n",
    "inputs = [np.arange(i*len_processed_seq, min((i+1)*len_processed_seq, tot_seq)) for i in range(tot_seq//len_processed_seq + 1)]"
   ]
  },
  {
   "cell_type": "code",
   "execution_count": 25,
   "metadata": {},
   "outputs": [
    {
     "data": {
      "application/vnd.jupyter.widget-view+json": {
       "model_id": "3d3ca3415e884f1ba0654dd38ea14eff",
       "version_major": 2,
       "version_minor": 0
      },
      "text/plain": [
       "HBox(children=(FloatProgress(value=0.0, max=113.0), HTML(value='')))"
      ]
     },
     "metadata": {},
     "output_type": "display_data"
    },
    {
     "name": "stderr",
     "output_type": "stream",
     "text": [
      "<ipython-input-5-b858dfab642f>:5: SettingWithCopyWarning: \n",
      "A value is trying to be set on a copy of a slice from a DataFrame.\n",
      "Try using .loc[row_indexer,col_indexer] = value instead\n",
      "\n",
      "See the caveats in the documentation: https://pandas.pydata.org/pandas-docs/stable/user_guide/indexing.html#returning-a-view-versus-a-copy\n",
      "  curr_seq['deltatime'] = curr_seq['deltatime'] - curr_seq['deltatime'].iloc[0]\n",
      "<ipython-input-5-b858dfab642f>:5: SettingWithCopyWarning: \n",
      "A value is trying to be set on a copy of a slice from a DataFrame.\n",
      "Try using .loc[row_indexer,col_indexer] = value instead\n",
      "\n",
      "See the caveats in the documentation: https://pandas.pydata.org/pandas-docs/stable/user_guide/indexing.html#returning-a-view-versus-a-copy\n",
      "  curr_seq['deltatime'] = curr_seq['deltatime'] - curr_seq['deltatime'].iloc[0]\n",
      "<ipython-input-5-b858dfab642f>:5: SettingWithCopyWarning: \n",
      "A value is trying to be set on a copy of a slice from a DataFrame.\n",
      "Try using .loc[row_indexer,col_indexer] = value instead\n",
      "\n",
      "See the caveats in the documentation: https://pandas.pydata.org/pandas-docs/stable/user_guide/indexing.html#returning-a-view-versus-a-copy\n",
      "  curr_seq['deltatime'] = curr_seq['deltatime'] - curr_seq['deltatime'].iloc[0]\n"
     ]
    },
    {
     "ename": "KeyboardInterrupt",
     "evalue": "",
     "output_type": "error",
     "traceback": [
      "\u001b[1;31m---------------------------------------------------------------------------\u001b[0m",
      "\u001b[1;31mKeyboardInterrupt\u001b[0m                         Traceback (most recent call last)",
      "\u001b[1;32m<ipython-input-25-8227868852ba>\u001b[0m in \u001b[0;36m<module>\u001b[1;34m\u001b[0m\n\u001b[0;32m      7\u001b[0m     \u001b[0msssseq\u001b[0m \u001b[1;33m+=\u001b[0m \u001b[0mprova\u001b[0m\u001b[1;33m\u001b[0m\u001b[1;33m\u001b[0m\u001b[0m\n\u001b[0;32m      8\u001b[0m     \u001b[0mfinal_df\u001b[0m \u001b[1;33m=\u001b[0m \u001b[0mpd\u001b[0m\u001b[1;33m.\u001b[0m\u001b[0mconcat\u001b[0m\u001b[1;33m(\u001b[0m\u001b[0msssseq\u001b[0m\u001b[1;33m)\u001b[0m\u001b[1;33m.\u001b[0m\u001b[0mreset_index\u001b[0m\u001b[1;33m(\u001b[0m\u001b[0mdrop\u001b[0m\u001b[1;33m=\u001b[0m\u001b[1;32mTrue\u001b[0m\u001b[1;33m)\u001b[0m\u001b[1;33m\u001b[0m\u001b[1;33m\u001b[0m\u001b[0m\n\u001b[1;32m----> 9\u001b[1;33m     \u001b[0mfinal_df\u001b[0m\u001b[1;33m.\u001b[0m\u001b[0mto_csv\u001b[0m\u001b[1;33m(\u001b[0m\u001b[1;34m\"./preprocessed_new/sequences_from_\"\u001b[0m\u001b[1;33m+\u001b[0m\u001b[0mstr\u001b[0m\u001b[1;33m(\u001b[0m\u001b[0msub_list\u001b[0m\u001b[1;33m[\u001b[0m\u001b[1;36m0\u001b[0m\u001b[1;33m]\u001b[0m\u001b[1;33m)\u001b[0m\u001b[1;33m+\u001b[0m\u001b[1;34m\"_to_\"\u001b[0m\u001b[1;33m+\u001b[0m\u001b[0mstr\u001b[0m\u001b[1;33m(\u001b[0m\u001b[0msub_list\u001b[0m\u001b[1;33m[\u001b[0m\u001b[1;33m-\u001b[0m\u001b[1;36m1\u001b[0m\u001b[1;33m]\u001b[0m\u001b[1;33m)\u001b[0m\u001b[1;33m+\u001b[0m\u001b[1;34m\".csv\"\u001b[0m\u001b[1;33m)\u001b[0m\u001b[1;33m\u001b[0m\u001b[1;33m\u001b[0m\u001b[0m\n\u001b[0m",
      "\u001b[1;32m~\\anaconda3\\lib\\site-packages\\pandas\\core\\generic.py\u001b[0m in \u001b[0;36mto_csv\u001b[1;34m(self, path_or_buf, sep, na_rep, float_format, columns, header, index, index_label, mode, encoding, compression, quoting, quotechar, line_terminator, chunksize, date_format, doublequote, escapechar, decimal, errors)\u001b[0m\n\u001b[0;32m   3168\u001b[0m             \u001b[0mdecimal\u001b[0m\u001b[1;33m=\u001b[0m\u001b[0mdecimal\u001b[0m\u001b[1;33m,\u001b[0m\u001b[1;33m\u001b[0m\u001b[1;33m\u001b[0m\u001b[0m\n\u001b[0;32m   3169\u001b[0m         )\n\u001b[1;32m-> 3170\u001b[1;33m         \u001b[0mformatter\u001b[0m\u001b[1;33m.\u001b[0m\u001b[0msave\u001b[0m\u001b[1;33m(\u001b[0m\u001b[1;33m)\u001b[0m\u001b[1;33m\u001b[0m\u001b[1;33m\u001b[0m\u001b[0m\n\u001b[0m\u001b[0;32m   3171\u001b[0m \u001b[1;33m\u001b[0m\u001b[0m\n\u001b[0;32m   3172\u001b[0m         \u001b[1;32mif\u001b[0m \u001b[0mpath_or_buf\u001b[0m \u001b[1;32mis\u001b[0m \u001b[1;32mNone\u001b[0m\u001b[1;33m:\u001b[0m\u001b[1;33m\u001b[0m\u001b[1;33m\u001b[0m\u001b[0m\n",
      "\u001b[1;32m~\\anaconda3\\lib\\site-packages\\pandas\\io\\formats\\csvs.py\u001b[0m in \u001b[0;36msave\u001b[1;34m(self)\u001b[0m\n\u001b[0;32m    204\u001b[0m             )\n\u001b[0;32m    205\u001b[0m \u001b[1;33m\u001b[0m\u001b[0m\n\u001b[1;32m--> 206\u001b[1;33m             \u001b[0mself\u001b[0m\u001b[1;33m.\u001b[0m\u001b[0m_save\u001b[0m\u001b[1;33m(\u001b[0m\u001b[1;33m)\u001b[0m\u001b[1;33m\u001b[0m\u001b[1;33m\u001b[0m\u001b[0m\n\u001b[0m\u001b[0;32m    207\u001b[0m \u001b[1;33m\u001b[0m\u001b[0m\n\u001b[0;32m    208\u001b[0m         \u001b[1;32mfinally\u001b[0m\u001b[1;33m:\u001b[0m\u001b[1;33m\u001b[0m\u001b[1;33m\u001b[0m\u001b[0m\n",
      "\u001b[1;32m~\\anaconda3\\lib\\site-packages\\pandas\\io\\formats\\csvs.py\u001b[0m in \u001b[0;36m_save\u001b[1;34m(self)\u001b[0m\n\u001b[0;32m    326\u001b[0m                 \u001b[1;32mbreak\u001b[0m\u001b[1;33m\u001b[0m\u001b[1;33m\u001b[0m\u001b[0m\n\u001b[0;32m    327\u001b[0m \u001b[1;33m\u001b[0m\u001b[0m\n\u001b[1;32m--> 328\u001b[1;33m             \u001b[0mself\u001b[0m\u001b[1;33m.\u001b[0m\u001b[0m_save_chunk\u001b[0m\u001b[1;33m(\u001b[0m\u001b[0mstart_i\u001b[0m\u001b[1;33m,\u001b[0m \u001b[0mend_i\u001b[0m\u001b[1;33m)\u001b[0m\u001b[1;33m\u001b[0m\u001b[1;33m\u001b[0m\u001b[0m\n\u001b[0m\u001b[0;32m    329\u001b[0m \u001b[1;33m\u001b[0m\u001b[0m\n\u001b[0;32m    330\u001b[0m     \u001b[1;32mdef\u001b[0m \u001b[0m_save_chunk\u001b[0m\u001b[1;33m(\u001b[0m\u001b[0mself\u001b[0m\u001b[1;33m,\u001b[0m \u001b[0mstart_i\u001b[0m\u001b[1;33m:\u001b[0m \u001b[0mint\u001b[0m\u001b[1;33m,\u001b[0m \u001b[0mend_i\u001b[0m\u001b[1;33m:\u001b[0m \u001b[0mint\u001b[0m\u001b[1;33m)\u001b[0m \u001b[1;33m->\u001b[0m \u001b[1;32mNone\u001b[0m\u001b[1;33m:\u001b[0m\u001b[1;33m\u001b[0m\u001b[1;33m\u001b[0m\u001b[0m\n",
      "\u001b[1;32m~\\anaconda3\\lib\\site-packages\\pandas\\io\\formats\\csvs.py\u001b[0m in \u001b[0;36m_save_chunk\u001b[1;34m(self, start_i, end_i)\u001b[0m\n\u001b[0;32m    360\u001b[0m         )\n\u001b[0;32m    361\u001b[0m \u001b[1;33m\u001b[0m\u001b[0m\n\u001b[1;32m--> 362\u001b[1;33m         \u001b[0mlibwriters\u001b[0m\u001b[1;33m.\u001b[0m\u001b[0mwrite_csv_rows\u001b[0m\u001b[1;33m(\u001b[0m\u001b[0mself\u001b[0m\u001b[1;33m.\u001b[0m\u001b[0mdata\u001b[0m\u001b[1;33m,\u001b[0m \u001b[0mix\u001b[0m\u001b[1;33m,\u001b[0m \u001b[0mself\u001b[0m\u001b[1;33m.\u001b[0m\u001b[0mnlevels\u001b[0m\u001b[1;33m,\u001b[0m \u001b[0mself\u001b[0m\u001b[1;33m.\u001b[0m\u001b[0mcols\u001b[0m\u001b[1;33m,\u001b[0m \u001b[0mself\u001b[0m\u001b[1;33m.\u001b[0m\u001b[0mwriter\u001b[0m\u001b[1;33m)\u001b[0m\u001b[1;33m\u001b[0m\u001b[1;33m\u001b[0m\u001b[0m\n\u001b[0m",
      "\u001b[1;32mpandas\\_libs\\writers.pyx\u001b[0m in \u001b[0;36mpandas._libs.writers.write_csv_rows\u001b[1;34m()\u001b[0m\n",
      "\u001b[1;31mKeyboardInterrupt\u001b[0m: "
     ]
    }
   ],
   "source": [
    "for sub_list in tqdm(inputs):\n",
    "    sssseq = []\n",
    "    splitted_df = {seq_idx: seq_df[seq_df['seq_idx']==seq_idx]\n",
    "           for seq_idx in sub_list}\n",
    "\n",
    "    prova = list(map(lambda kv: sequence_creator(pad_missing_values(kv[1]), kv[1]['tag_id'].iloc[0], kv[1]['seq_idx'].iloc[0]), splitted_df.items()))\n",
    "    sssseq += prova\n",
    "    final_df = pd.concat(sssseq).reset_index(drop=True)\n",
    "    final_df.to_csv(\"./preprocessed_new/sequences_from_\"+str(sub_list[0])+\"_to_\"+str(sub_list[-1])+\".csv\")"
   ]
  },
  {
   "cell_type": "code",
   "execution_count": null,
   "metadata": {},
   "outputs": [],
   "source": []
  },
  {
   "cell_type": "code",
   "execution_count": null,
   "metadata": {},
   "outputs": [],
   "source": []
  },
  {
   "cell_type": "code",
   "execution_count": null,
   "metadata": {},
   "outputs": [],
   "source": []
  },
  {
   "cell_type": "code",
   "execution_count": null,
   "metadata": {},
   "outputs": [],
   "source": []
  },
  {
   "cell_type": "code",
   "execution_count": 17,
   "metadata": {
    "id": "kMyPFMk0qG8W"
   },
   "outputs": [],
   "source": [
    "len_processed_seq = 200\n",
    "tot_seq = len(seq_df['seq_idx'].unique())\n",
    "inputs = [np.arange(i*len_processed_seq, min((i+1)*len_processed_seq, tot_seq)) for i in range(tot_seq//len_processed_seq + 1)]"
   ]
  },
  {
   "cell_type": "code",
   "execution_count": 113,
   "metadata": {
    "id": "KegflDLuqG8X"
   },
   "outputs": [],
   "source": [
    "inputs = []"
   ]
  },
  {
   "cell_type": "code",
   "execution_count": 9,
   "metadata": {
    "id": "2LytdNIpqG8X"
   },
   "outputs": [],
   "source": [
    "inp1 = 11800\n",
    "inp2 = inp1+200\n",
    "inputs.append(np.arange(inp1,inp2))"
   ]
  },
  {
   "cell_type": "code",
   "execution_count": 10,
   "metadata": {
    "id": "DY8JdQ7oqG8X",
    "outputId": "356aa171-d735-4969-e468-92f04c7862c5"
   },
   "outputs": [
    {
     "data": {
      "text/plain": [
       "[array([11800, 11801, 11802, 11803, 11804, 11805, 11806, 11807, 11808,\n",
       "        11809, 11810, 11811, 11812, 11813, 11814, 11815, 11816, 11817,\n",
       "        11818, 11819, 11820, 11821, 11822, 11823, 11824, 11825, 11826,\n",
       "        11827, 11828, 11829, 11830, 11831, 11832, 11833, 11834, 11835,\n",
       "        11836, 11837, 11838, 11839, 11840, 11841, 11842, 11843, 11844,\n",
       "        11845, 11846, 11847, 11848, 11849, 11850, 11851, 11852, 11853,\n",
       "        11854, 11855, 11856, 11857, 11858, 11859, 11860, 11861, 11862,\n",
       "        11863, 11864, 11865, 11866, 11867, 11868, 11869, 11870, 11871,\n",
       "        11872, 11873, 11874, 11875, 11876, 11877, 11878, 11879, 11880,\n",
       "        11881, 11882, 11883, 11884, 11885, 11886, 11887, 11888, 11889,\n",
       "        11890, 11891, 11892, 11893, 11894, 11895, 11896, 11897, 11898,\n",
       "        11899, 11900, 11901, 11902, 11903, 11904, 11905, 11906, 11907,\n",
       "        11908, 11909, 11910, 11911, 11912, 11913, 11914, 11915, 11916,\n",
       "        11917, 11918, 11919, 11920, 11921, 11922, 11923, 11924, 11925,\n",
       "        11926, 11927, 11928, 11929, 11930, 11931, 11932, 11933, 11934,\n",
       "        11935, 11936, 11937, 11938, 11939, 11940, 11941, 11942, 11943,\n",
       "        11944, 11945, 11946, 11947, 11948, 11949, 11950, 11951, 11952,\n",
       "        11953, 11954, 11955, 11956, 11957, 11958, 11959, 11960, 11961,\n",
       "        11962, 11963, 11964, 11965, 11966, 11967, 11968, 11969, 11970,\n",
       "        11971, 11972, 11973, 11974, 11975, 11976, 11977, 11978, 11979,\n",
       "        11980, 11981, 11982, 11983, 11984, 11985, 11986, 11987, 11988,\n",
       "        11989, 11990, 11991, 11992, 11993, 11994, 11995, 11996, 11997,\n",
       "        11998, 11999])]"
      ]
     },
     "execution_count": 10,
     "metadata": {},
     "output_type": "execute_result"
    }
   ],
   "source": [
    "inputs"
   ]
  },
  {
   "cell_type": "code",
   "execution_count": null,
   "metadata": {
    "id": "lmNmOp8uqG8Z"
   },
   "outputs": [],
   "source": [
    "num_cores = multiprocessing.cpu_count() - 2\n",
    "num_cores = 4"
   ]
  },
  {
   "cell_type": "code",
   "execution_count": null,
   "metadata": {
    "id": "hPhhi5XMqG8Z",
    "outputId": "a232143c-6344-4259-8630-9900aab89670"
   },
   "outputs": [],
   "source": [
    "%%time\n",
    "results = Parallel(n_jobs=num_cores)(delayed(general_function)(i) for i in inputs)"
   ]
  },
  {
   "cell_type": "code",
   "execution_count": null,
   "metadata": {
    "id": "7F3Ecm2RqG8Z"
   },
   "outputs": [],
   "source": []
  },
  {
   "cell_type": "code",
   "execution_count": 13,
   "metadata": {
    "id": "Yl7BrO47qG8Z"
   },
   "outputs": [
    {
     "data": {
      "text/plain": [
       "(430,\n",
       "           x          y seq_idx          tag_id\n",
       " 0     15.45  31.270000   200_0  0x00205F15109C\n",
       " 1     15.61  31.959999   200_0  0x00205F15109C\n",
       " 2     15.61  31.959999   200_0  0x00205F15109C\n",
       " 3     15.61  31.959999   200_0  0x00205F15109C\n",
       " 4     15.61  31.959999   200_0  0x00205F15109C\n",
       " ...     ...        ...     ...             ...\n",
       " 6695  15.71  32.250000  200_66  0x00205F15109C\n",
       " 6696  15.71  32.250000  200_66  0x00205F15109C\n",
       " 6697  15.71  32.250000  200_66  0x00205F15109C\n",
       " 6698  15.71  32.250000  200_66  0x00205F15109C\n",
       " 6699  15.67  32.299999  200_66  0x00205F15109C\n",
       " \n",
       " [6700 rows x 4 columns])"
      ]
     },
     "execution_count": 13,
     "metadata": {},
     "output_type": "execute_result"
    }
   ],
   "source": [
    "curr_seq = seq_df[seq_df['seq_idx']==200].copy()\n",
    "filled_curr_seq = pad_missing_values(curr_seq)\n",
    "prova = sequence_creator(filled_curr_seq, curr_seq['tag_id'].iloc[0], curr_seq['seq_idx'].iloc[0])\n",
    "len(filled_curr_seq),prova"
   ]
  },
  {
   "cell_type": "code",
   "execution_count": null,
   "metadata": {},
   "outputs": [],
   "source": []
  },
  {
   "cell_type": "code",
   "execution_count": 11,
   "metadata": {
    "id": "-B2xwlb5qG8a"
   },
   "outputs": [],
   "source": [
    "import os"
   ]
  },
  {
   "cell_type": "code",
   "execution_count": 12,
   "metadata": {
    "id": "zr-YRVZUqG8a",
    "outputId": "c695c657-9c9e-4897-c1e3-ba1c618b5555",
    "scrolled": true
   },
   "outputs": [
    {
     "name": "stdout",
     "output_type": "stream",
     "text": [
      "135400\n",
      "220700\n",
      "367000\n",
      "405400\n",
      "544400\n",
      "664700\n",
      "713600\n",
      "809800\n",
      "892600\n",
      "971800\n",
      "978500\n",
      "1073100\n",
      "1199500\n",
      "1264100\n",
      "1322300\n",
      "1421200\n",
      "1482200\n",
      "1526500\n",
      "1632500\n",
      "1761200\n",
      "1795400\n"
     ]
    }
   ],
   "source": [
    "files = os.listdir('./preprocessed')\n",
    "full_df = pd.DataFrame(columns=['x', 'y', 'tag_id', 'seq_idx'])\n",
    "for f in files:\n",
    "    curr_df = pd.read_csv(os.path.join('./preprocessed', f))\n",
    "    full_df = pd.concat([full_df, curr_df])\n",
    "    print(len(full_df))"
   ]
  },
  {
   "cell_type": "code",
   "execution_count": 13,
   "metadata": {
    "id": "_Y3V6bB_qG8a",
    "outputId": "78a6af25-efab-4ed9-ead2-ca26e81a2adc"
   },
   "outputs": [
    {
     "data": {
      "text/plain": [
       "16491"
      ]
     },
     "execution_count": 13,
     "metadata": {},
     "output_type": "execute_result"
    }
   ],
   "source": [
    "len(full_df['seq_idx'].unique())"
   ]
  },
  {
   "cell_type": "code",
   "execution_count": 14,
   "metadata": {
    "id": "86lkQ9MTqG8b"
   },
   "outputs": [],
   "source": [
    "import random"
   ]
  },
  {
   "cell_type": "code",
   "execution_count": 15,
   "metadata": {
    "id": "j8WOW2_RqG8b"
   },
   "outputs": [],
   "source": [
    "x_min, x_max = (-1.39, 43.93)\n",
    "y_min, y_max = (-1.38, 35.64)\n",
    "\n",
    "def convert_x_to_visualize(x):\n",
    "    num_pixel_on_x = binary_matrix.shape[0]\n",
    "    return num_pixel_on_x*(x-x_min)/(x_max-x_min)\n",
    "\n",
    "def convert_y_to_visualize(y):\n",
    "    num_pixel_on_y = binary_matrix.shape[1]\n",
    "    return num_pixel_on_y*(1-(y-y_min)/(y_max-y_min))"
   ]
  },
  {
   "cell_type": "code",
   "execution_count": 16,
   "metadata": {
    "id": "JE6r4ol_qG8b",
    "outputId": "4ee0154e-643a-4439-e6a3-17e1941fb6bf"
   },
   "outputs": [
    {
     "ename": "FileNotFoundError",
     "evalue": "[Errno 2] No such file or directory: 'binary_matrix.npy'",
     "output_type": "error",
     "traceback": [
      "\u001b[1;31m---------------------------------------------------------------------------\u001b[0m",
      "\u001b[1;31mFileNotFoundError\u001b[0m                         Traceback (most recent call last)",
      "\u001b[1;32m<ipython-input-16-f075f1e1df04>\u001b[0m in \u001b[0;36m<module>\u001b[1;34m\u001b[0m\n\u001b[1;32m----> 1\u001b[1;33m \u001b[1;32mwith\u001b[0m \u001b[0mopen\u001b[0m\u001b[1;33m(\u001b[0m\u001b[1;34m'binary_matrix.npy'\u001b[0m\u001b[1;33m,\u001b[0m \u001b[1;34m'rb'\u001b[0m\u001b[1;33m)\u001b[0m \u001b[1;32mas\u001b[0m \u001b[0mf\u001b[0m\u001b[1;33m:\u001b[0m\u001b[1;33m\u001b[0m\u001b[1;33m\u001b[0m\u001b[0m\n\u001b[0m\u001b[0;32m      2\u001b[0m     \u001b[0mbinary_matrix\u001b[0m \u001b[1;33m=\u001b[0m \u001b[0mnp\u001b[0m\u001b[1;33m.\u001b[0m\u001b[0mload\u001b[0m\u001b[1;33m(\u001b[0m\u001b[0mf\u001b[0m\u001b[1;33m)\u001b[0m\u001b[1;33m\u001b[0m\u001b[1;33m\u001b[0m\u001b[0m\n",
      "\u001b[1;31mFileNotFoundError\u001b[0m: [Errno 2] No such file or directory: 'binary_matrix.npy'"
     ]
    }
   ],
   "source": [
    "with open('binary_matrix.npy', 'rb') as f:\n",
    "    binary_matrix = np.load(f)"
   ]
  },
  {
   "cell_type": "code",
   "execution_count": 17,
   "metadata": {
    "id": "5KBs_DYbqG8c",
    "outputId": "1fa31f6b-695a-464d-d1c0-eef41009d672"
   },
   "outputs": [
    {
     "name": "stdout",
     "output_type": "stream",
     "text": [
      "1747_203\n"
     ]
    },
    {
     "ename": "NameError",
     "evalue": "name 'binary_matrix' is not defined",
     "output_type": "error",
     "traceback": [
      "\u001b[1;31m---------------------------------------------------------------------------\u001b[0m",
      "\u001b[1;31mNameError\u001b[0m                                 Traceback (most recent call last)",
      "\u001b[1;32m<ipython-input-17-734a868e4d14>\u001b[0m in \u001b[0;36m<module>\u001b[1;34m\u001b[0m\n\u001b[0;32m      3\u001b[0m \u001b[0mprint\u001b[0m\u001b[1;33m(\u001b[0m\u001b[0ms_idx\u001b[0m\u001b[1;33m)\u001b[0m\u001b[1;33m\u001b[0m\u001b[1;33m\u001b[0m\u001b[0m\n\u001b[0;32m      4\u001b[0m \u001b[1;33m\u001b[0m\u001b[0m\n\u001b[1;32m----> 5\u001b[1;33m \u001b[0mrescaled_x\u001b[0m \u001b[1;33m=\u001b[0m \u001b[0mfull_df\u001b[0m\u001b[1;33m[\u001b[0m\u001b[0mfull_df\u001b[0m\u001b[1;33m[\u001b[0m\u001b[1;34m'seq_idx'\u001b[0m\u001b[1;33m]\u001b[0m\u001b[1;33m==\u001b[0m\u001b[0ms_idx\u001b[0m\u001b[1;33m]\u001b[0m\u001b[1;33m[\u001b[0m\u001b[1;34m'x'\u001b[0m\u001b[1;33m]\u001b[0m\u001b[1;33m.\u001b[0m\u001b[0mapply\u001b[0m\u001b[1;33m(\u001b[0m\u001b[0mconvert_x_to_visualize\u001b[0m\u001b[1;33m)\u001b[0m\u001b[1;33m\u001b[0m\u001b[1;33m\u001b[0m\u001b[0m\n\u001b[0m\u001b[0;32m      6\u001b[0m \u001b[0mrescaled_y\u001b[0m \u001b[1;33m=\u001b[0m \u001b[0mfull_df\u001b[0m\u001b[1;33m[\u001b[0m\u001b[0mfull_df\u001b[0m\u001b[1;33m[\u001b[0m\u001b[1;34m'seq_idx'\u001b[0m\u001b[1;33m]\u001b[0m\u001b[1;33m==\u001b[0m\u001b[0ms_idx\u001b[0m\u001b[1;33m]\u001b[0m\u001b[1;33m[\u001b[0m\u001b[1;34m'y'\u001b[0m\u001b[1;33m]\u001b[0m\u001b[1;33m.\u001b[0m\u001b[0mapply\u001b[0m\u001b[1;33m(\u001b[0m\u001b[0mconvert_y_to_visualize\u001b[0m\u001b[1;33m)\u001b[0m\u001b[1;33m\u001b[0m\u001b[1;33m\u001b[0m\u001b[0m\n\u001b[0;32m      7\u001b[0m \u001b[1;33m\u001b[0m\u001b[0m\n",
      "\u001b[1;32m~\\anaconda3\\lib\\site-packages\\pandas\\core\\series.py\u001b[0m in \u001b[0;36mapply\u001b[1;34m(self, func, convert_dtype, args, **kwds)\u001b[0m\n\u001b[0;32m   4211\u001b[0m             \u001b[1;32melse\u001b[0m\u001b[1;33m:\u001b[0m\u001b[1;33m\u001b[0m\u001b[1;33m\u001b[0m\u001b[0m\n\u001b[0;32m   4212\u001b[0m                 \u001b[0mvalues\u001b[0m \u001b[1;33m=\u001b[0m \u001b[0mself\u001b[0m\u001b[1;33m.\u001b[0m\u001b[0mastype\u001b[0m\u001b[1;33m(\u001b[0m\u001b[0mobject\u001b[0m\u001b[1;33m)\u001b[0m\u001b[1;33m.\u001b[0m\u001b[0m_values\u001b[0m\u001b[1;33m\u001b[0m\u001b[1;33m\u001b[0m\u001b[0m\n\u001b[1;32m-> 4213\u001b[1;33m                 \u001b[0mmapped\u001b[0m \u001b[1;33m=\u001b[0m \u001b[0mlib\u001b[0m\u001b[1;33m.\u001b[0m\u001b[0mmap_infer\u001b[0m\u001b[1;33m(\u001b[0m\u001b[0mvalues\u001b[0m\u001b[1;33m,\u001b[0m \u001b[0mf\u001b[0m\u001b[1;33m,\u001b[0m \u001b[0mconvert\u001b[0m\u001b[1;33m=\u001b[0m\u001b[0mconvert_dtype\u001b[0m\u001b[1;33m)\u001b[0m\u001b[1;33m\u001b[0m\u001b[1;33m\u001b[0m\u001b[0m\n\u001b[0m\u001b[0;32m   4214\u001b[0m \u001b[1;33m\u001b[0m\u001b[0m\n\u001b[0;32m   4215\u001b[0m         \u001b[1;32mif\u001b[0m \u001b[0mlen\u001b[0m\u001b[1;33m(\u001b[0m\u001b[0mmapped\u001b[0m\u001b[1;33m)\u001b[0m \u001b[1;32mand\u001b[0m \u001b[0misinstance\u001b[0m\u001b[1;33m(\u001b[0m\u001b[0mmapped\u001b[0m\u001b[1;33m[\u001b[0m\u001b[1;36m0\u001b[0m\u001b[1;33m]\u001b[0m\u001b[1;33m,\u001b[0m \u001b[0mSeries\u001b[0m\u001b[1;33m)\u001b[0m\u001b[1;33m:\u001b[0m\u001b[1;33m\u001b[0m\u001b[1;33m\u001b[0m\u001b[0m\n",
      "\u001b[1;32mpandas\\_libs\\lib.pyx\u001b[0m in \u001b[0;36mpandas._libs.lib.map_infer\u001b[1;34m()\u001b[0m\n",
      "\u001b[1;32m<ipython-input-15-3992b42de50f>\u001b[0m in \u001b[0;36mconvert_x_to_visualize\u001b[1;34m(x)\u001b[0m\n\u001b[0;32m      3\u001b[0m \u001b[1;33m\u001b[0m\u001b[0m\n\u001b[0;32m      4\u001b[0m \u001b[1;32mdef\u001b[0m \u001b[0mconvert_x_to_visualize\u001b[0m\u001b[1;33m(\u001b[0m\u001b[0mx\u001b[0m\u001b[1;33m)\u001b[0m\u001b[1;33m:\u001b[0m\u001b[1;33m\u001b[0m\u001b[1;33m\u001b[0m\u001b[0m\n\u001b[1;32m----> 5\u001b[1;33m     \u001b[0mnum_pixel_on_x\u001b[0m \u001b[1;33m=\u001b[0m \u001b[0mbinary_matrix\u001b[0m\u001b[1;33m.\u001b[0m\u001b[0mshape\u001b[0m\u001b[1;33m[\u001b[0m\u001b[1;36m0\u001b[0m\u001b[1;33m]\u001b[0m\u001b[1;33m\u001b[0m\u001b[1;33m\u001b[0m\u001b[0m\n\u001b[0m\u001b[0;32m      6\u001b[0m     \u001b[1;32mreturn\u001b[0m \u001b[0mnum_pixel_on_x\u001b[0m\u001b[1;33m*\u001b[0m\u001b[1;33m(\u001b[0m\u001b[0mx\u001b[0m\u001b[1;33m-\u001b[0m\u001b[0mx_min\u001b[0m\u001b[1;33m)\u001b[0m\u001b[1;33m/\u001b[0m\u001b[1;33m(\u001b[0m\u001b[0mx_max\u001b[0m\u001b[1;33m-\u001b[0m\u001b[0mx_min\u001b[0m\u001b[1;33m)\u001b[0m\u001b[1;33m\u001b[0m\u001b[1;33m\u001b[0m\u001b[0m\n\u001b[0;32m      7\u001b[0m \u001b[1;33m\u001b[0m\u001b[0m\n",
      "\u001b[1;31mNameError\u001b[0m: name 'binary_matrix' is not defined"
     ]
    }
   ],
   "source": [
    "idx=random.randint(0,len(full_df['seq_idx'].unique()))\n",
    "s_idx=full_df['seq_idx'].unique()[idx]\n",
    "print(s_idx)\n",
    "\n",
    "rescaled_x = full_df[full_df['seq_idx']==s_idx]['x'].apply(convert_x_to_visualize)\n",
    "rescaled_y = full_df[full_df['seq_idx']==s_idx]['y'].apply(convert_y_to_visualize)\n",
    "\n",
    "fig, ax = plt.subplots(figsize = (10, 7))\n",
    "plt.imshow(binary_matrix)\n",
    "\n",
    "#plt.scatter(rescaled_x, rescaled_y)\n",
    "plt.plot(rescaled_x, rescaled_y, 'o-')\n",
    "\n",
    "plt.show()"
   ]
  },
  {
   "cell_type": "code",
   "execution_count": null,
   "metadata": {
    "id": "etp1zG9CqG8c"
   },
   "outputs": [],
   "source": []
  },
  {
   "cell_type": "code",
   "execution_count": null,
   "metadata": {
    "id": "W8h5wMy3qG8d"
   },
   "outputs": [],
   "source": []
  },
  {
   "cell_type": "code",
   "execution_count": null,
   "metadata": {
    "id": "DS7LmISRqG8d"
   },
   "outputs": [],
   "source": []
  },
  {
   "cell_type": "code",
   "execution_count": null,
   "metadata": {
    "id": "4gR3vRvSqG8d"
   },
   "outputs": [],
   "source": []
  },
  {
   "cell_type": "code",
   "execution_count": 73,
   "metadata": {
    "id": "1n28TcEAqG8e"
   },
   "outputs": [],
   "source": [
    "class IndividualTfDataset(Dataset):\n",
    "    def __init__(self,data):\n",
    "        super(IndividualTfDataset,self).__init__()\n",
    "\n",
    "        self.data=data\n",
    "\n",
    "    def __len__(self):\n",
    "        return self.data['src'].shape[0]\n",
    "\n",
    "\n",
    "    def __getitem__(self,index):\n",
    "        return {'src':torch.Tensor(self.data['src'][index]),\n",
    "                'trg':torch.Tensor(self.data['trg'][index]),\n",
    "                'tag_id':self.data['tag_id'][index],\n",
    "                'seq_idx':self.data['seq_idx'][index],\n",
    "                }\n",
    "\n",
    "def create_dataset(full_df, n_obs=40, n_preds=60):\n",
    "    \n",
    "    data_pos=[]\n",
    "    data_speed=[]\n",
    "    data_rel_pos=[]\n",
    "    \n",
    "    info_tag_id=[]\n",
    "    info_seq_idx=[]\n",
    "    \n",
    "    data = {}\n",
    "    \n",
    "    #for seq_idx in tqdm(seq_df['seq_idx'].unique(), total=len(seq_df['seq_idx'].unique())):\n",
    "#     for seq_idx in tqdm(full_df['seq_idx'].unique()):\n",
    "        \n",
    "#         curr_seq = full_df[full_df['seq_idx']==seq_idx].copy() #.astype(np.float32)\n",
    "#         curr_posit = curr_seq[['x','y']].values.astype(np.float32)\n",
    "\n",
    "#         data_pos.append(curr_posit)\n",
    "#         data_speed.append(np.concatenate((np.zeros((1,2)), np.diff(curr_posit, axis=0)), 0))\n",
    "#         data_rel_pos.append(curr_posit - curr_posit[0,:])\n",
    "\n",
    "#         info_tag_id.append(curr_seq['tag_id'].iloc[0])\n",
    "#         info_seq_idx.append(curr_seq['seq_idx'].iloc[0])\n",
    "    \n",
    "    splitted_df = {n: full_df.iloc[n:n+100, :] \n",
    "           for n in range(0, len(full_df), 100)}\n",
    "\n",
    "    info_tag_id = list(map(lambda kv: kv[1]['tag_id'].iloc[0], splitted_df.items()))\n",
    "    info_seq_idx = list(map(lambda kv: kv[1]['seq_idx'].iloc[0], splitted_df.items()))\n",
    "\n",
    "\n",
    "    data_pos = list(map(lambda kv: kv[1][['x','y']].values.astype(np.float32), splitted_df.items()))\n",
    "    data_speed = list(map(lambda kv: kv[1][['x','y']].diff().values.astype(np.float32), splitted_df.items()))\n",
    "    data_rel_pos = list(map(lambda kv: (kv[1][['x','y']] - kv[1][['x','y']].iloc[0,:]).values.astype(np.float32), splitted_df.items()))                \n",
    "    \n",
    "    # problema con data_rel_pos: se prima posizione è Nan -> sottrazione è Nan. Ho fillato i Nan così che \n",
    "    # alla posizione 0 ho il primo dei valori disponibili. \n",
    "    # Al momento quindi se kv[t] è il primo valore disponibile non Nan, kv[0],...,kv[t-1],kv[t] hanno stessi valori  \n",
    "    # solo per data_rel_pos. @luca serve rimettere i Nan nelle posizioni iniziali?\n",
    "    \n",
    "    data_pos_stack = np.stack(data_pos)\n",
    "    data_speed_stack = np.stack(data_speed)\n",
    "    data_rel_pos_stack = np.stack(data_rel_pos)\n",
    "    info_tag_id_stack = np.stack(info_tag_id)\n",
    "    info_seq_idx_stack = np.stack(info_seq_idx)\n",
    "    \n",
    "    all_data = np.concatenate((data_pos_stack, data_speed_stack, data_rel_pos_stack), 2)\n",
    "    inp = all_data[:,:n_obs,:]\n",
    "    out = all_data[:,n_obs:,:]\n",
    "    \n",
    "    data['src'] = inp\n",
    "    data['trg'] = out\n",
    "    data['tag_id'] = info_tag_id_stack\n",
    "    data['seq_idx'] = info_seq_idx_stack\n",
    "    \n",
    "    return IndividualTfDataset(data)"
   ]
  },
  {
   "cell_type": "code",
   "execution_count": 47,
   "metadata": {
    "scrolled": true
   },
   "outputs": [
    {
     "name": "stdout",
     "output_type": "stream",
     "text": [
      "Wall time: 8.98 ms\n"
     ]
    }
   ],
   "source": [
    "%%time\n",
    "splitted_df = {n: full_df.head(10000).iloc[n:n+100, :] \n",
    "           for n in range(0, len(full_df.head(10000-1)), 100)}\n"
   ]
  },
  {
   "cell_type": "code",
   "execution_count": 71,
   "metadata": {
    "scrolled": true
   },
   "outputs": [],
   "source": [
    "info_tag_id = list(map(lambda kv: kv[1]['tag_id'].iloc[0], splitted_df.items()))\n",
    "info_seq_idx = list(map(lambda kv: kv[1]['seq_idx'].iloc[0], splitted_df.items()))\n",
    "\n",
    "\n",
    "data_pos = list(map(lambda kv: kv[1][['x','y']].values.astype(np.float32), splitted_df.items()))\n",
    "data_speed = list(map(lambda kv: kv[1][['x','y']].diff().values.astype(np.float32), splitted_df.items()))\n",
    "data_rel_pos = list(map(lambda kv: (kv[1][['x','y']].fillna(method='bfill') - kv[1][['x','y']].fillna(method='bfill').iloc[0,:]).values.astype(np.float32), splitted_df.items()))"
   ]
  },
  {
   "cell_type": "code",
   "execution_count": 76,
   "metadata": {
    "colab": {
     "referenced_widgets": [
      "d4585f7f5bcd4cd79f295211db44989d"
     ]
    },
    "id": "3E_nWH8fqG8f",
    "outputId": "b34f0d6c-dbf1-4d11-bce3-fc9d71a86c2c"
   },
   "outputs": [
    {
     "name": "stdout",
     "output_type": "stream",
     "text": [
      "Wall time: 52.4 s\n"
     ]
    }
   ],
   "source": [
    "%%time\n",
    "train_dataset = create_dataset(full_df)"
   ]
  },
  {
   "cell_type": "code",
   "execution_count": 108,
   "metadata": {
    "id": "KfmbAF77qG8f"
   },
   "outputs": [
    {
     "data": {
      "text/plain": [
       "tensor([[ 4.1087e+01,  1.9520e+01,         nan,         nan,  0.0000e+00,\n",
       "          0.0000e+00],\n",
       "        [ 4.1083e+01,  1.9430e+01, -3.3300e-03, -9.0000e-02, -3.3300e-03,\n",
       "         -9.0000e-02],\n",
       "        [ 4.1080e+01,  1.9340e+01, -3.3360e-03, -9.0000e-02, -6.6660e-03,\n",
       "         -1.8000e-01],\n",
       "        [ 4.1070e+01,  1.9130e+01, -1.0000e-02, -2.1000e-01, -1.6666e-02,\n",
       "         -3.9000e-01],\n",
       "        [ 4.1095e+01,  1.9235e+01,  2.5000e-02,  1.0500e-01,  8.3340e-03,\n",
       "         -2.8500e-01],\n",
       "        [ 4.1120e+01,  1.9340e+01,  2.5000e-02,  1.0500e-01,  3.3334e-02,\n",
       "         -1.8000e-01],\n",
       "        [ 4.1120e+01,  1.9225e+01,  0.0000e+00, -1.1500e-01,  3.3334e-02,\n",
       "         -2.9500e-01],\n",
       "        [ 4.1120e+01,  1.9110e+01,  0.0000e+00, -1.1500e-01,  3.3334e-02,\n",
       "         -4.1000e-01],\n",
       "        [ 4.1150e+01,  1.9000e+01,  3.0000e-02, -1.1000e-01,  6.3334e-02,\n",
       "         -5.2000e-01],\n",
       "        [ 4.1180e+01,  1.8890e+01,  3.0000e-02, -1.1000e-01,  9.3334e-02,\n",
       "         -6.3000e-01],\n",
       "        [ 4.1500e+01,  1.9440e+01,  3.2000e-01,  5.5000e-01,  4.1333e-01,\n",
       "         -8.0000e-02],\n",
       "        [ 4.1220e+01,  1.9090e+01, -2.8000e-01, -3.5000e-01,  1.3333e-01,\n",
       "         -4.3000e-01],\n",
       "        [ 4.1150e+01,  1.8990e+01, -7.0000e-02, -1.0000e-01,  6.3334e-02,\n",
       "         -5.3000e-01],\n",
       "        [ 4.1170e+01,  1.9180e+01,  2.0000e-02,  1.9000e-01,  8.3334e-02,\n",
       "         -3.4000e-01],\n",
       "        [ 4.1090e+01,  1.8970e+01, -8.0000e-02, -2.1000e-01,  3.3340e-03,\n",
       "         -5.5000e-01],\n",
       "        [ 4.1180e+01,  1.9270e+01,  9.0000e-02,  3.0000e-01,  9.3334e-02,\n",
       "         -2.5000e-01],\n",
       "        [ 4.1170e+01,  1.9300e+01, -1.0000e-02,  3.0000e-02,  8.3334e-02,\n",
       "         -2.2000e-01],\n",
       "        [ 4.1100e+01,  1.9360e+01, -7.0000e-02,  6.0000e-02,  1.3334e-02,\n",
       "         -1.6000e-01],\n",
       "        [ 4.1030e+01,  1.9420e+01, -7.0000e-02,  6.0000e-02, -5.6666e-02,\n",
       "         -1.0000e-01],\n",
       "        [ 4.1440e+01,  1.9580e+01,  4.1000e-01,  1.6000e-01,  3.5333e-01,\n",
       "          6.0000e-02],\n",
       "        [ 4.1457e+01,  1.9640e+01,  1.6665e-02,  6.0000e-02,  3.7000e-01,\n",
       "          1.2000e-01],\n",
       "        [ 4.1473e+01,  1.9700e+01,  1.6670e-02,  6.0000e-02,  3.8667e-01,\n",
       "          1.8000e-01],\n",
       "        [ 4.1490e+01,  1.9760e+01,  1.6665e-02,  6.0000e-02,  4.0333e-01,\n",
       "          2.4000e-01],\n",
       "        [ 4.1523e+01,  1.9787e+01,  3.3335e-02,  2.6667e-02,  4.3667e-01,\n",
       "          2.6667e-01],\n",
       "        [ 4.1557e+01,  1.9813e+01,  3.3332e-02,  2.6667e-02,  4.7000e-01,\n",
       "          2.9333e-01],\n",
       "        [ 4.1590e+01,  1.9840e+01,  3.3333e-02,  2.6666e-02,  5.0333e-01,\n",
       "          3.2000e-01],\n",
       "        [ 4.0860e+01,  2.0630e+01, -7.3000e-01,  7.9000e-01, -2.2667e-01,\n",
       "          1.1100e+00],\n",
       "        [ 4.0530e+01,  2.0660e+01, -3.3000e-01,  3.0000e-02, -5.5667e-01,\n",
       "          1.1400e+00],\n",
       "        [ 4.0250e+01,  2.0485e+01, -2.8000e-01, -1.7500e-01, -8.3667e-01,\n",
       "          9.6500e-01],\n",
       "        [ 3.9970e+01,  2.0310e+01, -2.8000e-01, -1.7500e-01, -1.1167e+00,\n",
       "          7.9000e-01],\n",
       "        [ 3.8860e+01,  2.0490e+01, -1.1100e+00,  1.8000e-01, -2.2267e+00,\n",
       "          9.7000e-01],\n",
       "        [ 3.8045e+01,  2.0715e+01, -8.1500e-01,  2.2500e-01, -3.0417e+00,\n",
       "          1.1950e+00],\n",
       "        [ 3.7230e+01,  2.0940e+01, -8.1500e-01,  2.2500e-01, -3.8567e+00,\n",
       "          1.4200e+00],\n",
       "        [ 3.6110e+01,  2.0900e+01, -1.1200e+00, -4.0000e-02, -4.9767e+00,\n",
       "          1.3800e+00],\n",
       "        [ 3.5040e+01,  2.0870e+01, -1.0700e+00, -3.0000e-02, -6.0467e+00,\n",
       "          1.3500e+00],\n",
       "        [ 3.3710e+01,  2.0050e+01, -1.3300e+00, -8.2000e-01, -7.3767e+00,\n",
       "          5.3000e-01],\n",
       "        [ 3.3010e+01,  1.9815e+01, -7.0000e-01, -2.3500e-01, -8.0767e+00,\n",
       "          2.9500e-01],\n",
       "        [ 3.2310e+01,  1.9580e+01, -7.0000e-01, -2.3500e-01, -8.7767e+00,\n",
       "          6.0000e-02],\n",
       "        [ 3.0320e+01,  2.1710e+01, -1.9900e+00,  2.1300e+00, -1.0767e+01,\n",
       "          2.1900e+00],\n",
       "        [ 2.9470e+01,  2.0400e+01, -8.5000e-01, -1.3100e+00, -1.1617e+01,\n",
       "          8.8000e-01]])"
      ]
     },
     "execution_count": 108,
     "metadata": {},
     "output_type": "execute_result"
    }
   ],
   "source": [
    "train_dataset[100]['src']"
   ]
  },
  {
   "cell_type": "code",
   "execution_count": 101,
   "metadata": {
    "id": "GhV3wI_2qG8g",
    "scrolled": true
   },
   "outputs": [
    {
     "data": {
      "text/plain": [
       "(torch.Size([40, 6]), torch.Size([60, 6]))"
      ]
     },
     "execution_count": 101,
     "metadata": {},
     "output_type": "execute_result"
    }
   ],
   "source": [
    "train_dataset[200]['src'].size(),train_dataset[200]['trg'].size()"
   ]
  },
  {
   "cell_type": "code",
   "execution_count": 87,
   "metadata": {
    "id": "01Lj97ujqG8g"
   },
   "outputs": [
    {
     "ename": "NameError",
     "evalue": "name 'torch' is not defined",
     "output_type": "error",
     "traceback": [
      "\u001b[1;31m---------------------------------------------------------------------------\u001b[0m",
      "\u001b[1;31mNameError\u001b[0m                                 Traceback (most recent call last)",
      "\u001b[1;32m<ipython-input-87-7d20e71b8fc6>\u001b[0m in \u001b[0;36m<module>\u001b[1;34m\u001b[0m\n\u001b[1;32m----> 1\u001b[1;33m {'src':torch.Tensor(self.data['src'][index]),\n\u001b[0m\u001b[0;32m      2\u001b[0m                 \u001b[1;34m'trg'\u001b[0m\u001b[1;33m:\u001b[0m\u001b[0mtorch\u001b[0m\u001b[1;33m.\u001b[0m\u001b[0mTensor\u001b[0m\u001b[1;33m(\u001b[0m\u001b[0mself\u001b[0m\u001b[1;33m.\u001b[0m\u001b[0mdata\u001b[0m\u001b[1;33m[\u001b[0m\u001b[1;34m'trg'\u001b[0m\u001b[1;33m]\u001b[0m\u001b[1;33m[\u001b[0m\u001b[0mindex\u001b[0m\u001b[1;33m]\u001b[0m\u001b[1;33m)\u001b[0m\u001b[1;33m,\u001b[0m\u001b[1;33m\u001b[0m\u001b[1;33m\u001b[0m\u001b[0m\n\u001b[0;32m      3\u001b[0m                 \u001b[1;34m'tag_id'\u001b[0m\u001b[1;33m:\u001b[0m\u001b[0mself\u001b[0m\u001b[1;33m.\u001b[0m\u001b[0mdata\u001b[0m\u001b[1;33m[\u001b[0m\u001b[1;34m'tag_id'\u001b[0m\u001b[1;33m]\u001b[0m\u001b[1;33m[\u001b[0m\u001b[0mindex\u001b[0m\u001b[1;33m]\u001b[0m\u001b[1;33m,\u001b[0m\u001b[1;33m\u001b[0m\u001b[1;33m\u001b[0m\u001b[0m\n\u001b[0;32m      4\u001b[0m                 \u001b[1;34m'seq_idx'\u001b[0m\u001b[1;33m:\u001b[0m\u001b[0mself\u001b[0m\u001b[1;33m.\u001b[0m\u001b[0mdata\u001b[0m\u001b[1;33m[\u001b[0m\u001b[1;34m'seq_idx'\u001b[0m\u001b[1;33m]\u001b[0m\u001b[1;33m[\u001b[0m\u001b[0mindex\u001b[0m\u001b[1;33m]\u001b[0m\u001b[1;33m,\u001b[0m\u001b[1;33m\u001b[0m\u001b[1;33m\u001b[0m\u001b[0m\n\u001b[0;32m      5\u001b[0m                 }\n",
      "\u001b[1;31mNameError\u001b[0m: name 'torch' is not defined"
     ]
    }
   ],
   "source": [
    "{'src':torch.Tensor(self.data['src'][index]),\n",
    "'trg':torch.Tensor(self.data['trg'][index]),\n",
    "'tag_id':self.data['tag_id'][index],\n",
    "'seq_idx':self.data['seq_idx'][index],\n",
    "}"
   ]
  },
  {
   "cell_type": "code",
   "execution_count": 103,
   "metadata": {
    "id": "RR6Bp8eYqG8g"
   },
   "outputs": [
    {
     "data": {
      "text/html": [
       "<div>\n",
       "<style scoped>\n",
       "    .dataframe tbody tr th:only-of-type {\n",
       "        vertical-align: middle;\n",
       "    }\n",
       "\n",
       "    .dataframe tbody tr th {\n",
       "        vertical-align: top;\n",
       "    }\n",
       "\n",
       "    .dataframe thead th {\n",
       "        text-align: right;\n",
       "    }\n",
       "</style>\n",
       "<table border=\"1\" class=\"dataframe\">\n",
       "  <thead>\n",
       "    <tr style=\"text-align: right;\">\n",
       "      <th></th>\n",
       "      <th>x</th>\n",
       "      <th>y</th>\n",
       "      <th>tag_id</th>\n",
       "      <th>seq_idx</th>\n",
       "      <th>Unnamed: 0</th>\n",
       "    </tr>\n",
       "  </thead>\n",
       "  <tbody>\n",
       "    <tr>\n",
       "      <th>0</th>\n",
       "      <td>NaN</td>\n",
       "      <td>NaN</td>\n",
       "      <td>0x00205F15109C</td>\n",
       "      <td>3_0</td>\n",
       "      <td>0.0</td>\n",
       "    </tr>\n",
       "    <tr>\n",
       "      <th>1</th>\n",
       "      <td>NaN</td>\n",
       "      <td>NaN</td>\n",
       "      <td>0x00205F15109C</td>\n",
       "      <td>3_0</td>\n",
       "      <td>1.0</td>\n",
       "    </tr>\n",
       "    <tr>\n",
       "      <th>2</th>\n",
       "      <td>NaN</td>\n",
       "      <td>NaN</td>\n",
       "      <td>0x00205F15109C</td>\n",
       "      <td>3_0</td>\n",
       "      <td>2.0</td>\n",
       "    </tr>\n",
       "    <tr>\n",
       "      <th>3</th>\n",
       "      <td>NaN</td>\n",
       "      <td>NaN</td>\n",
       "      <td>0x00205F15109C</td>\n",
       "      <td>3_0</td>\n",
       "      <td>3.0</td>\n",
       "    </tr>\n",
       "    <tr>\n",
       "      <th>4</th>\n",
       "      <td>NaN</td>\n",
       "      <td>NaN</td>\n",
       "      <td>0x00205F15109C</td>\n",
       "      <td>3_0</td>\n",
       "      <td>4.0</td>\n",
       "    </tr>\n",
       "    <tr>\n",
       "      <th>...</th>\n",
       "      <td>...</td>\n",
       "      <td>...</td>\n",
       "      <td>...</td>\n",
       "      <td>...</td>\n",
       "      <td>...</td>\n",
       "    </tr>\n",
       "    <tr>\n",
       "      <th>96</th>\n",
       "      <td>20.286922</td>\n",
       "      <td>29.947693</td>\n",
       "      <td>0x00205F15109C</td>\n",
       "      <td>3_0</td>\n",
       "      <td>96.0</td>\n",
       "    </tr>\n",
       "    <tr>\n",
       "      <th>97</th>\n",
       "      <td>20.270770</td>\n",
       "      <td>29.923077</td>\n",
       "      <td>0x00205F15109C</td>\n",
       "      <td>3_0</td>\n",
       "      <td>97.0</td>\n",
       "    </tr>\n",
       "    <tr>\n",
       "      <th>98</th>\n",
       "      <td>20.254616</td>\n",
       "      <td>29.898460</td>\n",
       "      <td>0x00205F15109C</td>\n",
       "      <td>3_0</td>\n",
       "      <td>98.0</td>\n",
       "    </tr>\n",
       "    <tr>\n",
       "      <th>99</th>\n",
       "      <td>20.238462</td>\n",
       "      <td>29.873846</td>\n",
       "      <td>0x00205F15109C</td>\n",
       "      <td>3_0</td>\n",
       "      <td>99.0</td>\n",
       "    </tr>\n",
       "    <tr>\n",
       "      <th>100</th>\n",
       "      <td>20.190000</td>\n",
       "      <td>29.800000</td>\n",
       "      <td>0x00205F15109C</td>\n",
       "      <td>3_1</td>\n",
       "      <td>100.0</td>\n",
       "    </tr>\n",
       "  </tbody>\n",
       "</table>\n",
       "<p>101 rows × 5 columns</p>\n",
       "</div>"
      ],
      "text/plain": [
       "             x          y          tag_id seq_idx  Unnamed: 0\n",
       "0          NaN        NaN  0x00205F15109C     3_0         0.0\n",
       "1          NaN        NaN  0x00205F15109C     3_0         1.0\n",
       "2          NaN        NaN  0x00205F15109C     3_0         2.0\n",
       "3          NaN        NaN  0x00205F15109C     3_0         3.0\n",
       "4          NaN        NaN  0x00205F15109C     3_0         4.0\n",
       "..         ...        ...             ...     ...         ...\n",
       "96   20.286922  29.947693  0x00205F15109C     3_0        96.0\n",
       "97   20.270770  29.923077  0x00205F15109C     3_0        97.0\n",
       "98   20.254616  29.898460  0x00205F15109C     3_0        98.0\n",
       "99   20.238462  29.873846  0x00205F15109C     3_0        99.0\n",
       "100  20.190000  29.800000  0x00205F15109C     3_1       100.0\n",
       "\n",
       "[101 rows x 5 columns]"
      ]
     },
     "execution_count": 103,
     "metadata": {},
     "output_type": "execute_result"
    }
   ],
   "source": [
    "full_df.head(101)"
   ]
  },
  {
   "cell_type": "code",
   "execution_count": 106,
   "metadata": {
    "id": "1MdgLyVuqG8h"
   },
   "outputs": [
    {
     "data": {
      "text/html": [
       "<div>\n",
       "<style scoped>\n",
       "    .dataframe tbody tr th:only-of-type {\n",
       "        vertical-align: middle;\n",
       "    }\n",
       "\n",
       "    .dataframe tbody tr th {\n",
       "        vertical-align: top;\n",
       "    }\n",
       "\n",
       "    .dataframe thead th {\n",
       "        text-align: right;\n",
       "    }\n",
       "</style>\n",
       "<table border=\"1\" class=\"dataframe\">\n",
       "  <thead>\n",
       "    <tr style=\"text-align: right;\">\n",
       "      <th></th>\n",
       "      <th>x</th>\n",
       "      <th>y</th>\n",
       "      <th>tag_id</th>\n",
       "      <th>seq_idx</th>\n",
       "      <th>Unnamed: 0</th>\n",
       "    </tr>\n",
       "  </thead>\n",
       "  <tbody>\n",
       "    <tr>\n",
       "      <th>0</th>\n",
       "      <td>NaN</td>\n",
       "      <td>NaN</td>\n",
       "      <td>0x00205F15109C</td>\n",
       "      <td>3_0</td>\n",
       "      <td>0.0</td>\n",
       "    </tr>\n",
       "    <tr>\n",
       "      <th>1</th>\n",
       "      <td>NaN</td>\n",
       "      <td>NaN</td>\n",
       "      <td>0x00205F15109C</td>\n",
       "      <td>3_0</td>\n",
       "      <td>1.0</td>\n",
       "    </tr>\n",
       "    <tr>\n",
       "      <th>2</th>\n",
       "      <td>NaN</td>\n",
       "      <td>NaN</td>\n",
       "      <td>0x00205F15109C</td>\n",
       "      <td>3_0</td>\n",
       "      <td>2.0</td>\n",
       "    </tr>\n",
       "    <tr>\n",
       "      <th>3</th>\n",
       "      <td>NaN</td>\n",
       "      <td>NaN</td>\n",
       "      <td>0x00205F15109C</td>\n",
       "      <td>3_0</td>\n",
       "      <td>3.0</td>\n",
       "    </tr>\n",
       "    <tr>\n",
       "      <th>4</th>\n",
       "      <td>NaN</td>\n",
       "      <td>NaN</td>\n",
       "      <td>0x00205F15109C</td>\n",
       "      <td>3_0</td>\n",
       "      <td>4.0</td>\n",
       "    </tr>\n",
       "    <tr>\n",
       "      <th>5</th>\n",
       "      <td>NaN</td>\n",
       "      <td>NaN</td>\n",
       "      <td>0x00205F15109C</td>\n",
       "      <td>3_0</td>\n",
       "      <td>5.0</td>\n",
       "    </tr>\n",
       "    <tr>\n",
       "      <th>6</th>\n",
       "      <td>NaN</td>\n",
       "      <td>NaN</td>\n",
       "      <td>0x00205F15109C</td>\n",
       "      <td>3_0</td>\n",
       "      <td>6.0</td>\n",
       "    </tr>\n",
       "    <tr>\n",
       "      <th>7</th>\n",
       "      <td>NaN</td>\n",
       "      <td>NaN</td>\n",
       "      <td>0x00205F15109C</td>\n",
       "      <td>3_0</td>\n",
       "      <td>7.0</td>\n",
       "    </tr>\n",
       "    <tr>\n",
       "      <th>8</th>\n",
       "      <td>NaN</td>\n",
       "      <td>NaN</td>\n",
       "      <td>0x00205F15109C</td>\n",
       "      <td>3_0</td>\n",
       "      <td>8.0</td>\n",
       "    </tr>\n",
       "    <tr>\n",
       "      <th>9</th>\n",
       "      <td>NaN</td>\n",
       "      <td>NaN</td>\n",
       "      <td>0x00205F15109C</td>\n",
       "      <td>3_0</td>\n",
       "      <td>9.0</td>\n",
       "    </tr>\n",
       "    <tr>\n",
       "      <th>10</th>\n",
       "      <td>15.650</td>\n",
       "      <td>31.200000</td>\n",
       "      <td>0x00205F15109C</td>\n",
       "      <td>3_0</td>\n",
       "      <td>10.0</td>\n",
       "    </tr>\n",
       "    <tr>\n",
       "      <th>11</th>\n",
       "      <td>15.885</td>\n",
       "      <td>31.125000</td>\n",
       "      <td>0x00205F15109C</td>\n",
       "      <td>3_0</td>\n",
       "      <td>11.0</td>\n",
       "    </tr>\n",
       "    <tr>\n",
       "      <th>12</th>\n",
       "      <td>16.120</td>\n",
       "      <td>31.050000</td>\n",
       "      <td>0x00205F15109C</td>\n",
       "      <td>3_0</td>\n",
       "      <td>12.0</td>\n",
       "    </tr>\n",
       "    <tr>\n",
       "      <th>13</th>\n",
       "      <td>16.970</td>\n",
       "      <td>30.390000</td>\n",
       "      <td>0x00205F15109C</td>\n",
       "      <td>3_0</td>\n",
       "      <td>13.0</td>\n",
       "    </tr>\n",
       "    <tr>\n",
       "      <th>14</th>\n",
       "      <td>17.550</td>\n",
       "      <td>29.850000</td>\n",
       "      <td>0x00205F15109C</td>\n",
       "      <td>3_0</td>\n",
       "      <td>14.0</td>\n",
       "    </tr>\n",
       "    <tr>\n",
       "      <th>15</th>\n",
       "      <td>17.800</td>\n",
       "      <td>29.640000</td>\n",
       "      <td>0x00205F15109C</td>\n",
       "      <td>3_0</td>\n",
       "      <td>15.0</td>\n",
       "    </tr>\n",
       "    <tr>\n",
       "      <th>16</th>\n",
       "      <td>17.715</td>\n",
       "      <td>29.445000</td>\n",
       "      <td>0x00205F15109C</td>\n",
       "      <td>3_0</td>\n",
       "      <td>16.0</td>\n",
       "    </tr>\n",
       "    <tr>\n",
       "      <th>17</th>\n",
       "      <td>17.630</td>\n",
       "      <td>29.250000</td>\n",
       "      <td>0x00205F15109C</td>\n",
       "      <td>3_0</td>\n",
       "      <td>17.0</td>\n",
       "    </tr>\n",
       "    <tr>\n",
       "      <th>18</th>\n",
       "      <td>17.574</td>\n",
       "      <td>29.124000</td>\n",
       "      <td>0x00205F15109C</td>\n",
       "      <td>3_0</td>\n",
       "      <td>18.0</td>\n",
       "    </tr>\n",
       "    <tr>\n",
       "      <th>19</th>\n",
       "      <td>17.518</td>\n",
       "      <td>28.998001</td>\n",
       "      <td>0x00205F15109C</td>\n",
       "      <td>3_0</td>\n",
       "      <td>19.0</td>\n",
       "    </tr>\n",
       "  </tbody>\n",
       "</table>\n",
       "</div>"
      ],
      "text/plain": [
       "         x          y          tag_id seq_idx  Unnamed: 0\n",
       "0      NaN        NaN  0x00205F15109C     3_0         0.0\n",
       "1      NaN        NaN  0x00205F15109C     3_0         1.0\n",
       "2      NaN        NaN  0x00205F15109C     3_0         2.0\n",
       "3      NaN        NaN  0x00205F15109C     3_0         3.0\n",
       "4      NaN        NaN  0x00205F15109C     3_0         4.0\n",
       "5      NaN        NaN  0x00205F15109C     3_0         5.0\n",
       "6      NaN        NaN  0x00205F15109C     3_0         6.0\n",
       "7      NaN        NaN  0x00205F15109C     3_0         7.0\n",
       "8      NaN        NaN  0x00205F15109C     3_0         8.0\n",
       "9      NaN        NaN  0x00205F15109C     3_0         9.0\n",
       "10  15.650  31.200000  0x00205F15109C     3_0        10.0\n",
       "11  15.885  31.125000  0x00205F15109C     3_0        11.0\n",
       "12  16.120  31.050000  0x00205F15109C     3_0        12.0\n",
       "13  16.970  30.390000  0x00205F15109C     3_0        13.0\n",
       "14  17.550  29.850000  0x00205F15109C     3_0        14.0\n",
       "15  17.800  29.640000  0x00205F15109C     3_0        15.0\n",
       "16  17.715  29.445000  0x00205F15109C     3_0        16.0\n",
       "17  17.630  29.250000  0x00205F15109C     3_0        17.0\n",
       "18  17.574  29.124000  0x00205F15109C     3_0        18.0\n",
       "19  17.518  28.998001  0x00205F15109C     3_0        19.0"
      ]
     },
     "execution_count": 106,
     "metadata": {},
     "output_type": "execute_result"
    }
   ],
   "source": [
    "splitted_df[0].head(20)"
   ]
  },
  {
   "cell_type": "code",
   "execution_count": null,
   "metadata": {
    "id": "4iACx3TJqG8h"
   },
   "outputs": [],
   "source": []
  },
  {
   "cell_type": "code",
   "execution_count": null,
   "metadata": {
    "id": "-NfzaE2IqG8h"
   },
   "outputs": [],
   "source": []
  },
  {
   "cell_type": "code",
   "execution_count": null,
   "metadata": {
    "id": "RMww2WHkqG8h"
   },
   "outputs": [],
   "source": []
  },
  {
   "cell_type": "code",
   "execution_count": null,
   "metadata": {
    "id": "1vJy93RNqG8h"
   },
   "outputs": [],
   "source": []
  },
  {
   "cell_type": "code",
   "execution_count": 77,
   "metadata": {
    "id": "UnQIuNlRqG8i"
   },
   "outputs": [
    {
     "ename": "NameError",
     "evalue": "name 'full_seqs' is not defined",
     "output_type": "error",
     "traceback": [
      "\u001b[1;31m---------------------------------------------------------------------------\u001b[0m",
      "\u001b[1;31mNameError\u001b[0m                                 Traceback (most recent call last)",
      "\u001b[1;32m<ipython-input-77-d381c58aad9a>\u001b[0m in \u001b[0;36m<module>\u001b[1;34m\u001b[0m\n\u001b[1;32m----> 1\u001b[1;33m \u001b[0mfull_seqs\u001b[0m\u001b[1;33m[\u001b[0m\u001b[1;36m0\u001b[0m\u001b[1;33m]\u001b[0m\u001b[1;33m.\u001b[0m\u001b[0mvalues\u001b[0m\u001b[1;33m\u001b[0m\u001b[1;33m\u001b[0m\u001b[0m\n\u001b[0m",
      "\u001b[1;31mNameError\u001b[0m: name 'full_seqs' is not defined"
     ]
    }
   ],
   "source": [
    "full_seqs[0].values"
   ]
  },
  {
   "cell_type": "code",
   "execution_count": null,
   "metadata": {
    "id": "utcgRy8QqG8i"
   },
   "outputs": [],
   "source": [
    "seq_id = 3\n",
    "print(\"Length sequence:\", full_seqs[seq_id].shape[0])\n",
    "print(\"Percentage of Nan:\", full_seqs[seq_id]['x'].isna().sum()/full_seqs[seq_id].shape[0])"
   ]
  },
  {
   "cell_type": "code",
   "execution_count": null,
   "metadata": {
    "id": "JstUXzqmqG8i",
    "scrolled": true
   },
   "outputs": [],
   "source": [
    "filled_curr_seq"
   ]
  },
  {
   "cell_type": "code",
   "execution_count": null,
   "metadata": {
    "id": "S4fgJUtSqG8j"
   },
   "outputs": [],
   "source": [
    "len(sssseq[1])"
   ]
  },
  {
   "cell_type": "code",
   "execution_count": null,
   "metadata": {
    "id": "WCTCXCxqqG8j"
   },
   "outputs": [],
   "source": [
    "sssseq[1]"
   ]
  },
  {
   "cell_type": "code",
   "execution_count": null,
   "metadata": {
    "id": "kjaNj_2bqG8j"
   },
   "outputs": [],
   "source": [
    "prova = sequence_creator(filled_curr_seq, curr_seq['tag_id'].loc[0], curr_seq['seq_idx'].loc[0])"
   ]
  },
  {
   "cell_type": "code",
   "execution_count": null,
   "metadata": {
    "id": "uBIakaMlqG8j"
   },
   "outputs": [],
   "source": [
    "prova"
   ]
  },
  {
   "cell_type": "code",
   "execution_count": null,
   "metadata": {
    "id": "El1exMGKqG8j"
   },
   "outputs": [],
   "source": [
    "threshold = 75\n",
    "all_sequences = []\n",
    "stride = 1\n",
    "len_seq = 100\n",
    "max_number_consecutive_nan = 5"
   ]
  },
  {
   "cell_type": "code",
   "execution_count": null,
   "metadata": {
    "id": "m8bYV_QFqG8k"
   },
   "outputs": [],
   "source": []
  },
  {
   "cell_type": "code",
   "execution_count": null,
   "metadata": {
    "id": "cuC926BWqG8k"
   },
   "outputs": [],
   "source": []
  },
  {
   "cell_type": "code",
   "execution_count": null,
   "metadata": {
    "id": "TKBC_5frqG8k"
   },
   "outputs": [],
   "source": [
    "def sequence_creator(filled_curr_seq, tag_id, seq_idx, threshold=75, stride=1, len_seq=100, max_number_consecutive_nan = 5):\n",
    "    \n",
    "    filled_df = filled_curr_seq.interpolate(method='linear', axis=0, limit=max_number_consecutive_nan)\n",
    "    \n",
    "    all_sequences = []\n",
    "    \n",
    "    #split at NaN values\n",
    "    events = np.split(filled_df, np.where(np.isnan(filled_df.values))[0])\n",
    "    # removing NaN entries\n",
    "    events = [ev[~np.isnan(ev.values)[:,0]] for ev in events if not isinstance(ev, np.ndarray)]\n",
    "    # removing empty DataFrames\n",
    "    \n",
    "    accepted_seq = 0\n",
    "    \n",
    "    for ev in events:\n",
    "        if ev.empty or len(ev)<threshold:\n",
    "            continue\n",
    "        elif len(ev) <= len_seq:\n",
    "            # Pad at the begginning and add to list\n",
    "            df_nan = pd.DataFrame(np.nan, index=np.arange(100-len(ev)), columns=['x', 'y'])\n",
    "            new_df = pd.concat([df_nan, ev], ignore_index=True).reset_index(drop=True)\n",
    "            \n",
    "            # Add seq_idx\n",
    "            new_seq_idx = str(seq_idx)+'_'+str(accepted_seq)\n",
    "            accepted_seq += 1\n",
    "            new_df['seq_idx'] = np.repeat([new_seq_idx], len_seq)\n",
    "            \n",
    "            # Add tag_id\n",
    "            new_df['tag_id'] = np.repeat([tag_id], len_seq)\n",
    "            \n",
    "            all_sequences.append(new_df)\n",
    "        elif len(ev) > len_seq:\n",
    "            for i in range(1+(len(ev) - len_seq) // stride):\n",
    "                new_df = ev.iloc[i*stride : i*stride+len_seq, [0,1]].reset_index(drop=True)\n",
    "                \n",
    "                # Add seq_idx\n",
    "                new_seq_idx = str(seq_idx)+'_'+str(accepted_seq)\n",
    "                accepted_seq += 1\n",
    "                new_df['seq_idx'] = np.repeat([new_seq_idx], len_seq)\n",
    "\n",
    "                # Add tag_id\n",
    "                new_df['tag_id'] = np.repeat([tag_id], len_seq)\n",
    "                \n",
    "                all_sequences.append(new_df)\n",
    "    if len(all_sequences) > 0:\n",
    "        return pd.concat(all_sequences).reset_index(drop=True)\n",
    "    else:\n",
    "        return pd.DataFrame(columns=['x', 'y', 'tag_id', 'seq_idx'])"
   ]
  },
  {
   "cell_type": "code",
   "execution_count": null,
   "metadata": {
    "id": "80D11UR_qG8k"
   },
   "outputs": [],
   "source": []
  },
  {
   "cell_type": "code",
   "execution_count": null,
   "metadata": {
    "id": "MWj3GIcIqG8l"
   },
   "outputs": [],
   "source": []
  },
  {
   "cell_type": "code",
   "execution_count": null,
   "metadata": {
    "id": "TazYZpSlqG8m"
   },
   "outputs": [],
   "source": []
  },
  {
   "cell_type": "code",
   "execution_count": null,
   "metadata": {
    "id": "fDPRY6niqG8m"
   },
   "outputs": [],
   "source": []
  },
  {
   "cell_type": "code",
   "execution_count": null,
   "metadata": {
    "id": "UbxybnLaqG8m"
   },
   "outputs": [],
   "source": []
  },
  {
   "cell_type": "code",
   "execution_count": null,
   "metadata": {
    "id": "VrIeYGL0qG8m"
   },
   "outputs": [],
   "source": []
  },
  {
   "cell_type": "code",
   "execution_count": null,
   "metadata": {
    "id": "AMGM-xpsqG8m"
   },
   "outputs": [],
   "source": []
  },
  {
   "cell_type": "code",
   "execution_count": null,
   "metadata": {
    "id": "MGIN7FIkqG8m"
   },
   "outputs": [],
   "source": []
  },
  {
   "cell_type": "code",
   "execution_count": null,
   "metadata": {
    "id": "abcaC613qG8m"
   },
   "outputs": [],
   "source": []
  },
  {
   "cell_type": "code",
   "execution_count": null,
   "metadata": {
    "id": "wEnhFROOqG8n"
   },
   "outputs": [],
   "source": [
    "filled_df = full_seqs[seq_id].interpolate(method='linear', axis=0, limit=max_number_consecutive_nan)\n",
    "\n",
    "events = np.split(filled_df, np.where(np.isnan(filled_df.values))[0])\n",
    "# removing NaN entries\n",
    "events = [ev[~np.isnan(ev.values)[:,0]] for ev in events if not isinstance(ev, np.ndarray)]\n",
    "# removing empty DataFrames\n",
    "for ev in events:\n",
    "    if ev.empty or len(ev)<threshold:\n",
    "        continue\n",
    "    elif len(ev) <= len_seq:\n",
    "        # Pad at the begginning and add to list\n",
    "        df_nan = pd.DataFrame(np.nan, index=np.arange(100-len(ev)), columns=['x', 'y'])\n",
    "        all_sequences.append(pd.concat([df_nan, ev], ignore_index=True).reset_index(drop=True))\n",
    "    elif len(ev) > len_seq:\n",
    "        for i in range(1+(len(ev) - len_seq) // stride):\n",
    "            all_sequences.append(ev.iloc[i*stride : i*stride+len_seq, [0,1]].reset_index(drop=True))\n",
    "            \n"
   ]
  },
  {
   "cell_type": "code",
   "execution_count": null,
   "metadata": {
    "id": "4lxvL7lEqG8p"
   },
   "outputs": [],
   "source": [
    "len(all_sequences)"
   ]
  },
  {
   "cell_type": "code",
   "execution_count": null,
   "metadata": {
    "id": "C6ZFRRGUqG8q"
   },
   "outputs": [],
   "source": [
    "all_sequences[0]"
   ]
  },
  {
   "cell_type": "code",
   "execution_count": null,
   "metadata": {
    "id": "KXqIoJVaqG8q"
   },
   "outputs": [],
   "source": []
  },
  {
   "cell_type": "code",
   "execution_count": null,
   "metadata": {
    "id": "rPO1c6dzqG8q"
   },
   "outputs": [],
   "source": []
  },
  {
   "cell_type": "code",
   "execution_count": null,
   "metadata": {
    "id": "Qd-5KHAOqG8q"
   },
   "outputs": [],
   "source": [
    "events = np.split(filled_df, np.where(np.isnan(filled_df.values))[0])\n",
    "# removing NaN entries\n",
    "events = [ev[~np.isnan(ev.values)[:,0]] for ev in events if not isinstance(ev, np.ndarray)]\n",
    "events = [ev.reset_index(drop=True) for ev in events if not ev.empty]"
   ]
  },
  {
   "cell_type": "code",
   "execution_count": null,
   "metadata": {
    "id": "kmYR2NPLqG8r"
   },
   "outputs": [],
   "source": [
    "for ev in events:\n",
    "    print(len(ev))"
   ]
  },
  {
   "cell_type": "code",
   "execution_count": null,
   "metadata": {
    "id": "ZQQWZQCgqG8r"
   },
   "outputs": [],
   "source": []
  },
  {
   "cell_type": "code",
   "execution_count": null,
   "metadata": {
    "id": "iHxywVGaqG8r"
   },
   "outputs": [],
   "source": []
  },
  {
   "cell_type": "code",
   "execution_count": null,
   "metadata": {
    "id": "pRWFlAV-qG8r"
   },
   "outputs": [],
   "source": [
    "events"
   ]
  },
  {
   "cell_type": "code",
   "execution_count": null,
   "metadata": {
    "id": "0oeN4ccXqG8r"
   },
   "outputs": [],
   "source": []
  },
  {
   "cell_type": "code",
   "execution_count": null,
   "metadata": {
    "id": "yVL-qdmnqG8r"
   },
   "outputs": [],
   "source": []
  },
  {
   "cell_type": "code",
   "execution_count": null,
   "metadata": {
    "id": "9ytIloMfqG8s"
   },
   "outputs": [],
   "source": []
  },
  {
   "cell_type": "code",
   "execution_count": null,
   "metadata": {
    "id": "ni-s7BpWqG8s"
   },
   "outputs": [],
   "source": [
    "len(events)\n",
    "events[10]"
   ]
  },
  {
   "cell_type": "code",
   "execution_count": null,
   "metadata": {
    "id": "PL4S5xVeqG8s"
   },
   "outputs": [],
   "source": []
  },
  {
   "cell_type": "code",
   "execution_count": null,
   "metadata": {
    "id": "ChEvV0h5qG8s"
   },
   "outputs": [],
   "source": [
    "plt.plot(full_seqs[seq_id]['x'], full_seqs[seq_id]['y'], 'o-')"
   ]
  },
  {
   "cell_type": "code",
   "execution_count": null,
   "metadata": {
    "id": "q3JrF8AzqG8s"
   },
   "outputs": [],
   "source": [
    "plt.plot(filled_df['x'], filled_df['y'], 'o-')"
   ]
  },
  {
   "cell_type": "code",
   "execution_count": null,
   "metadata": {
    "id": "1OlQndqaqG8t"
   },
   "outputs": [],
   "source": []
  },
  {
   "cell_type": "code",
   "execution_count": null,
   "metadata": {
    "id": "73WSzGqYqG8t"
   },
   "outputs": [],
   "source": [
    "332"
   ]
  },
  {
   "cell_type": "code",
   "execution_count": null,
   "metadata": {
    "id": "fXsbyauEqG8t"
   },
   "outputs": [],
   "source": [
    "buchi troppo grandi --> dipenda risposta degli autori shopper dataset\n",
    "numero nan percentuale "
   ]
  },
  {
   "cell_type": "code",
   "execution_count": null,
   "metadata": {
    "id": "ZSABgI9GqG8t"
   },
   "outputs": [],
   "source": []
  }
 ],
 "metadata": {
  "colab": {
   "name": "Generate Trajectories 2.ipynb",
   "provenance": []
  },
  "kernelspec": {
   "display_name": "Python 3",
   "language": "python",
   "name": "python3"
  },
  "language_info": {
   "codemirror_mode": {
    "name": "ipython",
    "version": 3
   },
   "file_extension": ".py",
   "mimetype": "text/x-python",
   "name": "python",
   "nbconvert_exporter": "python",
   "pygments_lexer": "ipython3",
   "version": "3.8.5"
  },
  "varInspector": {
   "cols": {
    "lenName": 16,
    "lenType": 16,
    "lenVar": 40
   },
   "kernels_config": {
    "python": {
     "delete_cmd_postfix": "",
     "delete_cmd_prefix": "del ",
     "library": "var_list.py",
     "varRefreshCmd": "print(var_dic_list())"
    },
    "r": {
     "delete_cmd_postfix": ") ",
     "delete_cmd_prefix": "rm(",
     "library": "var_list.r",
     "varRefreshCmd": "cat(var_dic_list()) "
    }
   },
   "types_to_exclude": [
    "module",
    "function",
    "builtin_function_or_method",
    "instance",
    "_Feature"
   ],
   "window_display": false
  }
 },
 "nbformat": 4,
 "nbformat_minor": 1
}
